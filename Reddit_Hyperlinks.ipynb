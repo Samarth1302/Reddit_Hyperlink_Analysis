{
  "nbformat": 4,
  "nbformat_minor": 0,
  "metadata": {
    "colab": {
      "provenance": [],
      "collapsed_sections": [
        "qcb_qduwhBVi",
        "P7dHEQdYbx3b",
        "OOf95H06b2QF",
        "DCJX6HFUcGjG",
        "4fGndnu9cLiT",
        "o9MN44lLcOiw"
      ],
      "include_colab_link": true
    },
    "kernelspec": {
      "name": "python3",
      "display_name": "Python 3"
    },
    "language_info": {
      "name": "python"
    }
  },
  "cells": [
    {
      "cell_type": "markdown",
      "metadata": {
        "id": "view-in-github",
        "colab_type": "text"
      },
      "source": [
        "<a href=\"https://colab.research.google.com/github/Samarth1302/Reddit_Hyperlink_Analysis/blob/main/Reddit_Hyperlinks.ipynb\" target=\"_parent\"><img src=\"https://colab.research.google.com/assets/colab-badge.svg\" alt=\"Open In Colab\"/></a>"
      ]
    },
    {
      "cell_type": "code",
      "execution_count": null,
      "metadata": {
        "id": "RXCrIgZSmp87"
      },
      "outputs": [],
      "source": [
        "import networkx as nx\n",
        "import matplotlib.pyplot as plt\n",
        "import pandas as pd\n",
        "import numpy as np\n",
        "import math\n",
        "from operator import itemgetter\n",
        "from google.colab import files"
      ]
    },
    {
      "cell_type": "code",
      "source": [
        "from google.colab import drive\n",
        "drive.mount('/content/drive')"
      ],
      "metadata": {
        "colab": {
          "base_uri": "https://localhost:8080/"
        },
        "id": "IEIvubMa0PK_",
        "outputId": "05931c2f-41dc-4cde-8587-3bfcff7cd597"
      },
      "execution_count": null,
      "outputs": [
        {
          "output_type": "stream",
          "name": "stdout",
          "text": [
            "Mounted at /content/drive\n"
          ]
        }
      ]
    },
    {
      "cell_type": "code",
      "source": [
        "df = pd.read_excel(\"/content/drive/MyDrive/SNA_Project/data.xlsx\", sheet_name=0)\n",
        "st1=pd.read_excel(\"/content/drive/MyDrive/SNA_Project/data.xlsx\", sheet_name=1)\n",
        "st2=pd.read_excel(\"/content/drive/MyDrive/SNA_Project/data.xlsx\", sheet_name=2)\n",
        "st3=pd.read_excel(\"/content/drive/MyDrive/SNA_Project/data.xlsx\", sheet_name=3)"
      ],
      "metadata": {
        "id": "2d_zMzaym6xb"
      },
      "execution_count": null,
      "outputs": []
    },
    {
      "cell_type": "markdown",
      "source": [
        "## Full Data"
      ],
      "metadata": {
        "id": "qcb_qduwhBVi"
      }
    },
    {
      "cell_type": "code",
      "source": [
        "dfe = dict()\n",
        "for row in range(0,df.shape[0]):\n",
        "  if not df.iloc[row].Source in dfe:\n",
        "    dfe[df.iloc[row].Source]=df.iloc[row].Edge_Weight\n",
        "  else:\n",
        "    dfe[df.iloc[row].Source]+=df.iloc[row].Edge_Weight"
      ],
      "metadata": {
        "id": "B3-sEPZzgR7s"
      },
      "execution_count": null,
      "outputs": []
    },
    {
      "cell_type": "code",
      "source": [
        "rte =sorted(dfe.items(), key=lambda x: x[1], reverse=True)\n",
        "print(rte)"
      ],
      "metadata": {
        "id": "2ac4HuyqgyPz"
      },
      "execution_count": null,
      "outputs": []
    },
    {
      "cell_type": "code",
      "source": [
        "map=dict()\n",
        "for i in range(0,len(rte)):\n",
        "  if not math.floor(rte[i][1]/1000)*1000 in map:\n",
        "    map[math.floor(rte[i][1]/1000)*1000]=1\n",
        "  else:\n",
        "    map[math.floor(rte[i][1]/1000)*1000]+=1\n",
        "print(map)"
      ],
      "metadata": {
        "colab": {
          "base_uri": "https://localhost:8080/"
        },
        "id": "SIhjCWjxg297",
        "outputId": "ee9cb153-3116-441a-e9e0-b083fd226a04"
      },
      "execution_count": null,
      "outputs": [
        {
          "output_type": "stream",
          "name": "stdout",
          "text": [
            "{14000: 1, 9000: 2, 5000: 2, 4000: 3, 3000: 1, 2000: 6, 1000: 33, 0: 54479, -1000: 1336}\n"
          ]
        }
      ]
    },
    {
      "cell_type": "code",
      "source": [
        "plt.plot(map.keys(), map.values(),10.0,color='b')"
      ],
      "metadata": {
        "colab": {
          "base_uri": "https://localhost:8080/",
          "height": 301
        },
        "id": "vz-VX8Lcg7Jj",
        "outputId": "27689979-7d1c-4ac1-fa3e-a3be44aebdc7"
      },
      "execution_count": null,
      "outputs": [
        {
          "output_type": "execute_result",
          "data": {
            "text/plain": [
              "[<matplotlib.lines.Line2D at 0x7f2b40b515e0>,\n",
              " <matplotlib.lines.Line2D at 0x7f2b40b51610>]"
            ]
          },
          "metadata": {},
          "execution_count": 59
        },
        {
          "output_type": "display_data",
          "data": {
            "text/plain": [
              "<Figure size 432x288 with 1 Axes>"
            ],
            "image/png": "[encoded data removed]"
          },
          "metadata": {
            "needs_background": "light"
          }
        }
      ]
    },
    {
      "cell_type": "markdown",
      "source": [
        "## Sheet-1"
      ],
      "metadata": {
        "id": "P7dHEQdYbx3b"
      }
    },
    {
      "cell_type": "code",
      "source": [
        "sv1 = dict()\n",
        "for row in range(0,st1.shape[0]):\n",
        "  if not st1.iloc[row].Source in sv1:\n",
        "    sv1[st1.iloc[row].Source]=st1.iloc[row].Edge_Weight\n",
        "  else:\n",
        "    sv1[st1.iloc[row].Source]+=st1.iloc[row].Edge_Weight"
      ],
      "metadata": {
        "id": "sWU1CWB8h0qk"
      },
      "execution_count": null,
      "outputs": []
    },
    {
      "cell_type": "code",
      "source": [
        "SV=sorted(sv1.items(), key=lambda x: x[1], reverse=True)\n",
        "print(SV)"
      ],
      "metadata": {
        "id": "Jnyh9jgNpAPl"
      },
      "execution_count": null,
      "outputs": []
    },
    {
      "cell_type": "code",
      "source": [
        "map=dict()\n",
        "for i in range(0,len(SV)):\n",
        "  if not math.floor(SV[i][1]/10)*10 in map:\n",
        "    map[math.floor(SV[i][1]/10)*10]=1\n",
        "  else:\n",
        "    map[math.floor(SV[i][1]/10)*10]+=1\n",
        "print(map)"
      ],
      "metadata": {
        "id": "XLlr8us6qw9e",
        "colab": {
          "base_uri": "https://localhost:8080/"
        },
        "outputId": "5cb5a5e2-3de4-4cbc-d220-156f8531d2c5"
      },
      "execution_count": null,
      "outputs": [
        {
          "output_type": "stream",
          "name": "stdout",
          "text": [
            "{6270: 1, 4450: 1, 3580: 1, 2070: 1, 1910: 1, 1550: 1, 1360: 1, 1060: 1, 1020: 1, 1000: 1, 950: 1, 930: 1, 920: 3, 890: 1, 870: 1, 790: 1, 770: 1, 690: 1, 620: 2, 610: 2, 600: 1, 590: 1, 580: 1, 560: 1, 550: 2, 540: 1, 510: 1, 470: 1, 460: 1, 450: 2, 440: 3, 430: 3, 420: 1, 390: 4, 380: 4, 370: 2, 360: 2, 350: 4, 340: 2, 330: 5, 310: 1, 300: 2, 290: 2, 280: 3, 270: 7, 260: 3, 250: 2, 240: 5, 230: 4, 220: 7, 210: 12, 200: 7, 190: 8, 180: 12, 170: 15, 160: 15, 150: 14, 140: 27, 130: 24, 120: 27, 110: 33, 100: 39, 90: 60, 80: 60, 70: 92, 60: 103, 50: 132, 40: 209, 30: 355, 20: 633, 10: 1602, 0: 21018, -10: 541, -20: 1, -30: 1, -70: 1}\n"
          ]
        }
      ]
    },
    {
      "cell_type": "code",
      "source": [
        "neg=dict()\n",
        "for i in range(0,len(SV)):\n",
        "  if SV[i][1]<0:\n",
        "    if not math.floor(SV[i][1]/10)*10 in neg:\n",
        "      neg[math.floor(SV[i][1]/10)*10]=1\n",
        "    else:\n",
        "      neg[math.floor(SV[i][1]/10)*10]+=1"
      ],
      "metadata": {
        "id": "A9rP463yXkL2"
      },
      "execution_count": null,
      "outputs": []
    },
    {
      "cell_type": "code",
      "source": [
        "print(neg)"
      ],
      "metadata": {
        "colab": {
          "base_uri": "https://localhost:8080/"
        },
        "id": "5sP8OKJWY4Bu",
        "outputId": "9825956e-f711-4ffe-fd1c-f7e31a3e7889"
      },
      "execution_count": null,
      "outputs": [
        {
          "output_type": "stream",
          "name": "stdout",
          "text": [
            "{-10: 541, -20: 1, -30: 1, -70: 1}\n"
          ]
        }
      ]
    },
    {
      "cell_type": "code",
      "source": [
        "plt.bar(neg.keys(), neg.values(),10.0,color='g')"
      ],
      "metadata": {
        "id": "pHDffjKztQgK",
        "colab": {
          "base_uri": "https://localhost:8080/",
          "height": 283
        },
        "outputId": "c8c8e5ea-9233-45f2-f0ef-66e0cdefc907"
      },
      "execution_count": null,
      "outputs": [
        {
          "output_type": "execute_result",
          "data": {
            "text/plain": [
              "<BarContainer object of 4 artists>"
            ]
          },
          "metadata": {},
          "execution_count": 28
        },
        {
          "output_type": "display_data",
          "data": {
            "text/plain": [
              "<Figure size 432x288 with 1 Axes>"
            ],
            "image/png": "[encoded data removed]"
          },
          "metadata": {
            "needs_background": "light"
          }
        }
      ]
    },
    {
      "cell_type": "markdown",
      "source": [
        "# Sheet-2"
      ],
      "metadata": {
        "id": "OOf95H06b2QF"
      }
    },
    {
      "cell_type": "code",
      "source": [
        "sv2 = dict()\n",
        "for row in range(0,st2.shape[0]):\n",
        "  if not st2.iloc[row].Source in sv2:\n",
        "    sv2[st2.iloc[row].Source]=st2.iloc[row].Edge_Weight\n",
        "  else:\n",
        "    sv2[st2.iloc[row].Source]+=st2.iloc[row].Edge_Weight"
      ],
      "metadata": {
        "id": "16h_zzO4OP0C"
      },
      "execution_count": null,
      "outputs": []
    },
    {
      "cell_type": "code",
      "source": [
        "SV=sorted(sv2.items(), key=lambda x: x[1], reverse=True)\n",
        "print(SV)"
      ],
      "metadata": {
        "id": "MX3SKZTTOa-a"
      },
      "execution_count": null,
      "outputs": []
    },
    {
      "cell_type": "code",
      "source": [
        "map=dict()\n",
        "for i in range(0,len(SV)):\n",
        "  if not math.floor(SV[i][1]/10)*10 in map:\n",
        "    map[math.floor(SV[i][1]/10)*10]=1\n",
        "  else:\n",
        "    map[math.floor(SV[i][1]/10)*10]+=1\n",
        "print(map)"
      ],
      "metadata": {
        "colab": {
          "base_uri": "https://localhost:8080/"
        },
        "id": "S-0o4L-AOeUq",
        "outputId": "c93653b8-ef9f-4d99-992c-b42d4bda5118"
      },
      "execution_count": null,
      "outputs": [
        {
          "output_type": "stream",
          "name": "stdout",
          "text": [
            "{4420: 1, 3270: 1, 3240: 1, 2040: 1, 1760: 1, 1710: 1, 1570: 1, 1500: 1, 1090: 1, 990: 1, 910: 1, 830: 1, 750: 2, 710: 1, 680: 1, 660: 1, 630: 2, 620: 1, 600: 1, 590: 1, 570: 1, 550: 1, 520: 2, 490: 1, 480: 2, 470: 1, 460: 1, 440: 1, 430: 1, 420: 1, 400: 3, 390: 1, 380: 2, 370: 2, 360: 2, 350: 2, 340: 3, 330: 1, 320: 1, 310: 7, 300: 6, 290: 6, 280: 5, 270: 6, 260: 3, 250: 4, 240: 5, 230: 5, 220: 4, 210: 13, 200: 7, 190: 8, 180: 13, 170: 11, 160: 18, 150: 25, 140: 19, 130: 10, 120: 33, 110: 38, 100: 41, 90: 57, 80: 56, 70: 83, 60: 99, 50: 134, 40: 209, 30: 363, 20: 643, 10: 1763, 0: 24393, -10: 632, -20: 2, -30: 2}\n"
          ]
        }
      ]
    },
    {
      "cell_type": "code",
      "source": [
        "neg2=dict()\n",
        "for i in range(0,len(SV)):\n",
        "  if SV[i][1]<0:\n",
        "    if not math.floor(SV[i][1]/10)*10 in neg2:\n",
        "      neg2[math.floor(SV[i][1]/10)*10]=1\n",
        "    else:\n",
        "      neg2[math.floor(SV[i][1]/10)*10]+=1"
      ],
      "metadata": {
        "id": "aADq7HMpZ1xL"
      },
      "execution_count": null,
      "outputs": []
    },
    {
      "cell_type": "code",
      "source": [
        "print(neg2)"
      ],
      "metadata": {
        "colab": {
          "base_uri": "https://localhost:8080/"
        },
        "id": "AF3dBXwCatus",
        "outputId": "0bb2ea0b-d9ce-43ff-e930-09b34b746073"
      },
      "execution_count": null,
      "outputs": [
        {
          "output_type": "stream",
          "name": "stdout",
          "text": [
            "{-10: 632, -20: 2, -30: 2}\n"
          ]
        }
      ]
    },
    {
      "cell_type": "code",
      "source": [
        "plt.bar(neg2.keys(), neg2.values(),8.0,color='b')"
      ],
      "metadata": {
        "colab": {
          "base_uri": "https://localhost:8080/",
          "height": 283
        },
        "id": "xkaaNsaPOhwv",
        "outputId": "b77a2f03-f621-4337-ef23-4ac833e41f4e"
      },
      "execution_count": null,
      "outputs": [
        {
          "output_type": "execute_result",
          "data": {
            "text/plain": [
              "<BarContainer object of 3 artists>"
            ]
          },
          "metadata": {},
          "execution_count": 50
        },
        {
          "output_type": "display_data",
          "data": {
            "text/plain": [
              "<Figure size 432x288 with 1 Axes>"
            ],
            "image/png": "[encoded data removed]"
          },
          "metadata": {
            "needs_background": "light"
          }
        }
      ]
    },
    {
      "cell_type": "markdown",
      "source": [
        "# Sheet-3"
      ],
      "metadata": {
        "id": "DCJX6HFUcGjG"
      }
    },
    {
      "cell_type": "code",
      "source": [
        "sv3 = dict()\n",
        "for row in range(0,st3.shape[0]):\n",
        "  if not st3.iloc[row].Source in sv3:\n",
        "    sv3[st3.iloc[row].Source]=st3.iloc[row].Edge_Weight\n",
        "  else:\n",
        "    sv3[st3.iloc[row].Source]+=st3.iloc[row].Edge_Weight"
      ],
      "metadata": {
        "id": "zT_zw-xnOkk5"
      },
      "execution_count": null,
      "outputs": []
    },
    {
      "cell_type": "code",
      "source": [
        "SV=sorted(sv3.items(), key=lambda x: x[1], reverse=True)\n",
        "print(SV)"
      ],
      "metadata": {
        "id": "OiONxUiqOrNv"
      },
      "execution_count": null,
      "outputs": []
    },
    {
      "cell_type": "code",
      "source": [
        "map=dict()\n",
        "for i in range(0,len(SV)):\n",
        "  if not math.floor(SV[i][1]/10)*10 in map:\n",
        "    map[math.floor(SV[i][1]/10)*10]=1\n",
        "  else:\n",
        "    map[math.floor(SV[i][1]/10)*10]+=1\n",
        "print(map)"
      ],
      "metadata": {
        "colab": {
          "base_uri": "https://localhost:8080/"
        },
        "id": "r_cFH-CtOtSg",
        "outputId": "dba90a3d-9aee-49f1-aea1-4f16eb502b0d"
      },
      "execution_count": null,
      "outputs": [
        {
          "output_type": "stream",
          "name": "stdout",
          "text": [
            "{3540: 1, 2630: 1, 1960: 1, 1800: 1, 1690: 1, 1600: 1, 1590: 1, 1430: 1, 1350: 1, 1210: 1, 1150: 1, 920: 1, 880: 1, 820: 1, 810: 1, 730: 2, 700: 1, 690: 1, 590: 2, 570: 1, 560: 1, 540: 2, 530: 2, 520: 1, 470: 3, 460: 1, 450: 1, 430: 2, 420: 1, 410: 2, 400: 2, 390: 2, 380: 1, 370: 2, 360: 2, 350: 3, 340: 4, 330: 2, 320: 1, 310: 3, 300: 1, 290: 2, 280: 3, 270: 6, 260: 8, 250: 6, 240: 7, 230: 8, 220: 4, 210: 7, 200: 10, 190: 13, 180: 20, 170: 11, 160: 13, 150: 17, 140: 23, 130: 30, 120: 22, 110: 34, 100: 41, 90: 52, 80: 54, 70: 81, 60: 94, 50: 165, 40: 187, 30: 362, 20: 672, 10: 1710, 0: 23946, -10: 687, -20: 2, -40: 1}\n"
          ]
        }
      ]
    },
    {
      "cell_type": "code",
      "source": [
        "neg3=dict()\n",
        "for i in range(0,len(SV)):\n",
        "  if SV[i][1]<0:\n",
        "    if not math.floor(SV[i][1]/10)*10 in neg3:\n",
        "      neg3[math.floor(SV[i][1]/10)*10]=1\n",
        "    else:\n",
        "      neg3[math.floor(SV[i][1]/10)*10]+=1"
      ],
      "metadata": {
        "id": "b_7KtJIyayGv"
      },
      "execution_count": null,
      "outputs": []
    },
    {
      "cell_type": "code",
      "source": [
        "print(neg3)"
      ],
      "metadata": {
        "colab": {
          "base_uri": "https://localhost:8080/"
        },
        "id": "8ePibbUjbAc6",
        "outputId": "8014f089-5087-41cb-b493-44864ec0e81b"
      },
      "execution_count": null,
      "outputs": [
        {
          "output_type": "stream",
          "name": "stdout",
          "text": [
            "{-10: 687, -20: 2, -40: 1}\n"
          ]
        }
      ]
    },
    {
      "cell_type": "code",
      "source": [
        "plt.bar(neg3.keys(), neg3.values(),10.0,color='r')"
      ],
      "metadata": {
        "colab": {
          "base_uri": "https://localhost:8080/",
          "height": 283
        },
        "id": "QI3os5vaOveY",
        "outputId": "4e3f0d81-9934-4978-9a00-debc14f83fc8"
      },
      "execution_count": null,
      "outputs": [
        {
          "output_type": "execute_result",
          "data": {
            "text/plain": [
              "<BarContainer object of 3 artists>"
            ]
          },
          "metadata": {},
          "execution_count": 42
        },
        {
          "output_type": "display_data",
          "data": {
            "text/plain": [
              "<Figure size 432x288 with 1 Axes>"
            ],
            "image/png": "[encoded data removed]"
          },
          "metadata": {
            "needs_background": "light"
          }
        }
      ]
    },
    {
      "cell_type": "markdown",
      "source": [
        "# Inter-Community"
      ],
      "metadata": {
        "id": "9i2F1Xmfdiqf"
      }
    },
    {
      "cell_type": "code",
      "source": [
        "# srcList = set()\n",
        "# for i in range(0,df.shape[0]):\n",
        "#   srcList.add(df.iloc[i].Source)\n",
        "# print(srcList)\n"
      ],
      "metadata": {
        "id": "ILFw-s2Xdhrb"
      },
      "execution_count": null,
      "outputs": []
    },
    {
      "cell_type": "code",
      "source": [
        "dfx=df.drop(['POST_ID', 'Timeset'], axis=1)\n",
        "res = dfx.groupby(by=['Source', 'Target'])['Edge_Weight'].agg(\n",
        "    pos_edges = lambda x: sum(x == 1),\n",
        "    neg_edges = lambda x: sum(x == -1)\n",
        ").reset_index()\n",
        "print(res)"
      ],
      "metadata": {
        "id": "Fb3rDCRi6h6L"
      },
      "execution_count": null,
      "outputs": []
    },
    {
      "cell_type": "code",
      "source": [
        "res_df = pd.DataFrame(res)"
      ],
      "metadata": {
        "id": "z9_6DkzOFb9H"
      },
      "execution_count": null,
      "outputs": []
    },
    {
      "cell_type": "code",
      "source": [
        "res_df['Sign']=0"
      ],
      "metadata": {
        "id": "O8RByqF60BvW"
      },
      "execution_count": null,
      "outputs": []
    },
    {
      "cell_type": "code",
      "source": [
        "for row in range(0,res_df.shape[0]):\n",
        "  val=res_df.iloc[row].pos_edges + res_df.iloc[row].neg_edges\n",
        "  val=val*2/3\n",
        "  if(res_df.iloc[row].pos_edges>val):\n",
        "    res_df.loc[row,'Sign']=1\n",
        "  elif(res_df.iloc[row].neg_edges>val):\n",
        "    res_df.loc[row,'Sign']=-1\n",
        "  else:\n",
        "    res_df.loc[row,'Sign']=0\n",
        "\n",
        "print(res_df)"
      ],
      "metadata": {
        "id": "TqLLZH9nxsny"
      },
      "execution_count": null,
      "outputs": []
    },
    {
      "cell_type": "code",
      "source": [
        "value = {-1:0,0:0,1:0}"
      ],
      "metadata": {
        "id": "1fDgdwyvEBEO"
      },
      "execution_count": null,
      "outputs": []
    },
    {
      "cell_type": "code",
      "source": [
        "for row in range(0,res_df.shape[0]):\n",
        "  value[res_df.iloc[row].Sign]+=1\n",
        "print(value) "
      ],
      "metadata": {
        "colab": {
          "base_uri": "https://localhost:8080/"
        },
        "id": "KzhBVZ4iDqC2",
        "outputId": "9cda2c93-d3b7-4e95-f77a-66325fb17e41"
      },
      "execution_count": null,
      "outputs": [
        {
          "output_type": "stream",
          "name": "stdout",
          "text": [
            "{-1: 18327, 0: 11277, 1: 310040}\n"
          ]
        }
      ]
    },
    {
      "cell_type": "code",
      "source": [
        "plt.bar(value.keys(), value.values(),0.5,color='g')\n",
        "plt.show()"
      ],
      "metadata": {
        "colab": {
          "base_uri": "https://localhost:8080/",
          "height": 265
        },
        "id": "mlxQI6a-EprL",
        "outputId": "cd900f95-92cf-4b45-b958-4fdcc3245f73"
      },
      "execution_count": null,
      "outputs": [
        {
          "output_type": "display_data",
          "data": {
            "text/plain": [
              "<Figure size 432x288 with 1 Axes>"
            ],
            "image/png": "[encoded data removed]"
          },
          "metadata": {
            "needs_background": "light"
          }
        }
      ]
    },
    {
      "cell_type": "code",
      "source": [
        "# Gn= nx.DiGraph()\n",
        "# Gn = nx.from_pandas_edgelist(res_df, source=\"Source\", target=\"Target\", edge_attr=[\"pos_edges\",\"neg_edges\"])\n",
        "# nx.draw(Gn, with_labels=True)\n",
        "# plt.show()"
      ],
      "metadata": {
        "id": "imecGdDRtnL7"
      },
      "execution_count": null,
      "outputs": []
    },
    {
      "cell_type": "code",
      "source": [
        "# res_df.to_excel('filename.xlsx', sheet_name = 'New_sheet')"
      ],
      "metadata": {
        "id": "i_VSojArpzPk"
      },
      "execution_count": null,
      "outputs": []
    },
    {
      "cell_type": "code",
      "source": [
        "# files.download('filename.xlsx')"
      ],
      "metadata": {
        "colab": {
          "base_uri": "https://localhost:8080/",
          "height": 17
        },
        "id": "U_QT66WfGnop",
        "outputId": "f21ff4cf-f4d1-4e58-c6a4-6e288b43adf0"
      },
      "execution_count": null,
      "outputs": [
        {
          "output_type": "display_data",
          "data": {
            "text/plain": [
              "<IPython.core.display.Javascript object>"
            ],
            "application/javascript": [
              "\n",
              "    async function download(id, filename, size) {\n",
              "      if (!google.colab.kernel.accessAllowed) {\n",
              "        return;\n",
              "      }\n",
              "      const div = document.createElement('div');\n",
              "      const label = document.createElement('label');\n",
              "      label.textContent = `Downloading \"${filename}\": `;\n",
              "      div.appendChild(label);\n",
              "      const progress = document.createElement('progress');\n",
              "      progress.max = size;\n",
              "      div.appendChild(progress);\n",
              "      document.body.appendChild(div);\n",
              "\n",
              "      const buffers = [];\n",
              "      let downloaded = 0;\n",
              "\n",
              "      const channel = await google.colab.kernel.comms.open(id);\n",
              "      // Send a message to notify the kernel that we're ready.\n",
              "      channel.send({})\n",
              "\n",
              "      for await (const message of channel.messages) {\n",
              "        // Send a message to notify the kernel that we're ready.\n",
              "        channel.send({})\n",
              "        if (message.buffers) {\n",
              "          for (const buffer of message.buffers) {\n",
              "            buffers.push(buffer);\n",
              "            downloaded += buffer.byteLength;\n",
              "            progress.value = downloaded;\n",
              "          }\n",
              "        }\n",
              "      }\n",
              "      const blob = new Blob(buffers, {type: 'application/binary'});\n",
              "      const a = document.createElement('a');\n",
              "      a.href = window.URL.createObjectURL(blob);\n",
              "      a.download = filename;\n",
              "      div.appendChild(a);\n",
              "      a.click();\n",
              "      div.remove();\n",
              "    }\n",
              "  "
            ]
          },
          "metadata": {}
        },
        {
          "output_type": "display_data",
          "data": {
            "text/plain": [
              "<IPython.core.display.Javascript object>"
            ],
            "application/javascript": [
              "download(\"download_ff562aba-992e-4f7c-a93a-b5480fec76b0\", \"filename.xlsx\", 11423666)"
            ]
          },
          "metadata": {}
        }
      ]
    },
    {
      "cell_type": "markdown",
      "source": [
        "# Graph metrics"
      ],
      "metadata": {
        "id": "4fGndnu9cLiT"
      }
    },
    {
      "cell_type": "code",
      "source": [
        "G = nx.MultiDiGraph()\n",
        "G = nx.from_pandas_edgelist(df, source=\"Source\", target=\"Target\", edge_attr=[\"Edge_Weight\",\"Timeset\"])"
      ],
      "metadata": {
        "id": "mw61nboQcZ8D"
      },
      "execution_count": null,
      "outputs": []
    },
    {
      "cell_type": "code",
      "source": [
        "# nx.draw(G, with_labels=True)\n",
        "# plt.show()"
      ],
      "metadata": {
        "id": "1r5l20y-qptj"
      },
      "execution_count": null,
      "outputs": []
    },
    {
      "cell_type": "code",
      "source": [
        "degree_distribution = dict(G.degree())\n",
        "avg_clustering_coefficient = nx.average_clustering(G,weight=\"Edge_Weight\")\n",
        "transitivity = nx.transitivity(G)\n",
        "assortativity = nx.degree_assortativity_coefficient(G,weight=\"Edge_Weight\")"
      ],
      "metadata": {
        "id": "Ts77A0oPp5yK"
      },
      "execution_count": null,
      "outputs": []
    },
    {
      "cell_type": "code",
      "source": [
        "print(\"Degree distribution:\", degree_distribution)\n",
        "print(\"Weighted Average clustering coefficient:\", avg_clustering_coefficient)\n",
        "print(\"Transitivity:\", transitivity)\n",
        "print(\"Weighted Assortativity:\", assortativity)"
      ],
      "metadata": {
        "id": "5hoOqJL5p-DT"
      },
      "execution_count": null,
      "outputs": []
    },
    {
      "cell_type": "code",
      "source": [
        "Degree = sorted(degree_distribution.items(), key=lambda x: x[1], reverse=True)\n",
        "print(Degree)"
      ],
      "metadata": {
        "id": "PUQL56hEGD4K"
      },
      "execution_count": null,
      "outputs": []
    },
    {
      "cell_type": "code",
      "source": [
        "pr = nx.pagerank(G,alpha=0.85,tol=1e-06)\n",
        "print(pr)"
      ],
      "metadata": {
        "id": "TBijDypGzxx7"
      },
      "execution_count": null,
      "outputs": []
    },
    {
      "cell_type": "code",
      "source": [
        "sorted_pr = sorted(pr.items(), key=lambda x: x[1], reverse=True)\n",
        "print(sorted_pr)"
      ],
      "metadata": {
        "id": "5EiLWqpO3tlS"
      },
      "execution_count": null,
      "outputs": []
    },
    {
      "cell_type": "code",
      "source": [
        "top = sorted_pr[:5]\n",
        "name = [t[0] for t in top]\n",
        "score = [t[1] for t in top]\n",
        "plt.bar(name, score)\n",
        "plt.xlabel('SubReddit ID')\n",
        "plt.ylabel('PageRank Score')\n",
        "plt.title('Top 5 Nodes by PageRank Score')\n",
        "plt.show()"
      ],
      "metadata": {
        "id": "MSywPMnq4kFJ"
      },
      "execution_count": null,
      "outputs": []
    },
    {
      "cell_type": "markdown",
      "source": [
        "# Extra"
      ],
      "metadata": {
        "id": "o9MN44lLcOiw"
      }
    },
    {
      "cell_type": "code",
      "source": [
        "# signed_betweenness = nx.betweenness_centrality(G, weight=\"Edge_Weight\")\n",
        "# print(signed_betweenness)"
      ],
      "metadata": {
        "id": "kDaM7l3JbGC-"
      },
      "execution_count": null,
      "outputs": []
    },
    {
      "cell_type": "code",
      "source": [
        "# signed_modularity = nx.algorithms.community.modularity(G, weight=\"Edge_Weight\")\n",
        "# print(signed_modularity) (!!need to build communities then use this!!)"
      ],
      "metadata": {
        "id": "R0at5fT4bCYt"
      },
      "execution_count": null,
      "outputs": []
    },
    {
      "cell_type": "code",
      "source": [
        "# hubs, authorities = nx.hits(G,max_iter=100,tol=1e-04,normalized = False)\n",
        "# print(\"Hub Scores: \", hubs)\n",
        "# print(\"Authority Scores: \", authorities)"
      ],
      "metadata": {
        "id": "JGi8pFqNrXGB"
      },
      "execution_count": null,
      "outputs": []
    },
    {
      "cell_type": "code",
      "source": [
        "# Hubs = sorted(hubs.items(), key=lambda x: x[1], reverse=True)\n",
        "# print(Hubs)"
      ],
      "metadata": {
        "id": "8QRcXCwpv3B3"
      },
      "execution_count": null,
      "outputs": []
    },
    {
      "cell_type": "code",
      "source": [
        "# Authorities = sorted(authorities.items(), key=lambda x: x[1], reverse=True)\n",
        "# print(Authorities)"
      ],
      "metadata": {
        "id": "aiURtk5Kx5q-"
      },
      "execution_count": null,
      "outputs": []
    }
  ]
}