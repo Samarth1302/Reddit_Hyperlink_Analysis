{
  "cells": [
    {
      "cell_type": "markdown",
      "metadata": {
        "id": "xxUJz91kWIS3"
      },
      "source": [
        "## Libraries and Data loading"
      ]
    },
    {
      "cell_type": "code",
      "execution_count": null,
      "metadata": {
        "id": "RXCrIgZSmp87"
      },
      "outputs": [],
      "source": [
        "import networkx as nx\n",
        "import matplotlib.pyplot as plt\n",
        "import pandas as pd\n",
        "import numpy as np\n",
        "import math\n",
        "from operator import itemgetter\n",
        "from google.colab import files\n",
        "import networkx.algorithms.community as nx_comm"
      ]
    },
    {
      "cell_type": "code",
      "execution_count": null,
      "metadata": {
        "colab": {
          "base_uri": "https://localhost:8080/"
        },
        "id": "IEIvubMa0PK_",
        "outputId": "461e1cb9-63cb-4a63-c882-61521ec57910"
      },
      "outputs": [
        {
          "name": "stdout",
          "output_type": "stream",
          "text": [
            "Drive already mounted at /content/drive; to attempt to forcibly remount, call drive.mount(\"/content/drive\", force_remount=True).\n"
          ]
        }
      ],
      "source": [
        "from google.colab import drive\n",
        "drive.mount('/content/drive')"
      ]
    },
    {
      "cell_type": "code",
      "execution_count": null,
      "metadata": {
        "id": "ACvuFbt3ZajT"
      },
      "outputs": [],
      "source": [
        "df = pd.read_excel(\"/content/drive/MyDrive/SNA_Project/data.xlsx\", sheet_name=0)"
      ]
    },
    {
      "cell_type": "code",
      "execution_count": null,
      "metadata": {
        "id": "2d_zMzaym6xb"
      },
      "outputs": [],
      "source": [
        "# st1=pd.read_excel(\"/content/drive/MyDrive/SNA_Project/data.xlsx\", sheet_name=1)\n",
        "# st2=pd.read_excel(\"/content/drive/MyDrive/SNA_Project/data.xlsx\", sheet_name=2)\n",
        "# st3=pd.read_excel(\"/content/drive/MyDrive/SNA_Project/data.xlsx\", sheet_name=3)"
      ]
    },
    {
      "cell_type": "code",
      "execution_count": null,
      "metadata": {
        "id": "0euqcyZsScgz"
      },
      "outputs": [],
      "source": [
        "import warnings\n",
        "warnings.filterwarnings(\"ignore\")"
      ]
    },
    {
      "cell_type": "markdown",
      "metadata": {
        "id": "6616U5UIODZj"
      },
      "source": [
        "# Communities and balance"
      ]
    },
    {
      "cell_type": "markdown",
      "metadata": {
        "id": "9i2F1Xmfdiqf"
      },
      "source": [
        "## Inter-Community"
      ]
    },
    {
      "cell_type": "code",
      "execution_count": null,
      "metadata": {
        "colab": {
          "base_uri": "https://localhost:8080/"
        },
        "id": "Fb3rDCRi6h6L",
        "outputId": "533fe4ab-7f25-4aa2-c8a3-848586bad59e"
      },
      "outputs": [
        {
          "name": "stdout",
          "output_type": "stream",
          "text": [
            "           Source        Target  pos_edges  neg_edges\n",
            "0               7  daniel_craig          1          0\n",
            "1             125   markmywords          1          0\n",
            "2             195        advice          0          1\n",
            "3             195         anime          1          0\n",
            "4             195     askreddit          8          3\n",
            "...           ...           ...        ...        ...\n",
            "339639  zyramains   threshmains          1          0\n",
            "339640       zyzz  bodybuilding          1          0\n",
            "339641       zyzz       fitness          1          0\n",
            "339642       zyzz    girlsmirin          1          0\n",
            "339643   zzseries      toontown          1          0\n",
            "\n",
            "[339644 rows x 4 columns]\n"
          ]
        }
      ],
      "source": [
        "dfx=df.drop(['POST_ID', 'Timeset'], axis=1)\n",
        "res = dfx.groupby(by=['Source', 'Target'])['Edge_Weight'].agg(\n",
        "    pos_edges = lambda x: sum(x == 1),\n",
        "    neg_edges = lambda x: sum(x == -1)\n",
        ").reset_index()\n",
        "print(res)"
      ]
    },
    {
      "cell_type": "code",
      "execution_count": null,
      "metadata": {
        "id": "z9_6DkzOFb9H"
      },
      "outputs": [],
      "source": [
        "res_df = pd.DataFrame(res)"
      ]
    },
    {
      "cell_type": "code",
      "execution_count": null,
      "metadata": {
        "id": "O8RByqF60BvW"
      },
      "outputs": [],
      "source": [
        "res_df['Sign']=0"
      ]
    },
    {
      "cell_type": "code",
      "execution_count": null,
      "metadata": {
        "colab": {
          "base_uri": "https://localhost:8080/"
        },
        "id": "TqLLZH9nxsny",
        "outputId": "54959dde-43e6-4e9c-ecd4-0f74a71e6c76"
      },
      "outputs": [
        {
          "name": "stdout",
          "output_type": "stream",
          "text": [
            "           Source        Target  pos_edges  neg_edges  Sign\n",
            "0               7  daniel_craig          1          0     1\n",
            "1             125   markmywords          1          0     1\n",
            "2             195        advice          0          1    -1\n",
            "3             195         anime          1          0     1\n",
            "4             195     askreddit          8          3     1\n",
            "...           ...           ...        ...        ...   ...\n",
            "339639  zyramains   threshmains          1          0     1\n",
            "339640       zyzz  bodybuilding          1          0     1\n",
            "339641       zyzz       fitness          1          0     1\n",
            "339642       zyzz    girlsmirin          1          0     1\n",
            "339643   zzseries      toontown          1          0     1\n",
            "\n",
            "[339644 rows x 5 columns]\n"
          ]
        }
      ],
      "source": [
        "for row in range(0,res_df.shape[0]):\n",
        "  val=res_df.iloc[row].pos_edges + res_df.iloc[row].neg_edges\n",
        "  val=val*2/3\n",
        "  if(res_df.iloc[row].pos_edges>val):\n",
        "    res_df.loc[row,'Sign']=1\n",
        "  elif(res_df.iloc[row].neg_edges>val):\n",
        "    res_df.loc[row,'Sign']=-1\n",
        "  else:\n",
        "    res_df.loc[row,'Sign']=0\n",
        "\n",
        "print(res_df)"
      ]
    },
    {
      "cell_type": "code",
      "execution_count": null,
      "metadata": {
        "id": "1fDgdwyvEBEO"
      },
      "outputs": [],
      "source": [
        "value = {-1:0,0:0,1:0}"
      ]
    },
    {
      "cell_type": "code",
      "execution_count": null,
      "metadata": {
        "colab": {
          "base_uri": "https://localhost:8080/"
        },
        "id": "KzhBVZ4iDqC2",
        "outputId": "b6889da6-536b-4887-ced2-c0c7a851258b"
      },
      "outputs": [
        {
          "name": "stdout",
          "output_type": "stream",
          "text": [
            "{-1: 18327, 0: 11277, 1: 310040}\n"
          ]
        }
      ],
      "source": [
        "for row in range(0,res_df.shape[0]):\n",
        "  value[res_df.iloc[row].Sign]+=1\n",
        "print(value) "
      ]
    },
    {
      "cell_type": "markdown",
      "metadata": {
        "id": "pBk0VqfWNQEE"
      },
      "source": []
    },
    {
      "cell_type": "code",
      "execution_count": null,
      "metadata": {
        "colab": {
          "base_uri": "https://localhost:8080/"
        },
        "id": "yBCpN-ZMNO8G",
        "outputId": "86ef5198-d2f1-4886-bf89-9fc7b8c16167"
      },
      "outputs": [
        {
          "name": "stdout",
          "output_type": "stream",
          "text": [
            "           Source        Target  pos_edges  neg_edges  Sign\n",
            "0               7  daniel_craig          1          0     1\n",
            "1             125   markmywords          1          0     1\n",
            "3             195         anime          1          0     1\n",
            "4             195     askreddit          8          3     1\n",
            "5             195       atheism          1          0     1\n",
            "...           ...           ...        ...        ...   ...\n",
            "339639  zyramains   threshmains          1          0     1\n",
            "339640       zyzz  bodybuilding          1          0     1\n",
            "339641       zyzz       fitness          1          0     1\n",
            "339642       zyzz    girlsmirin          1          0     1\n",
            "339643   zzseries      toontown          1          0     1\n",
            "\n",
            "[310040 rows x 5 columns]\n"
          ]
        }
      ],
      "source": [
        "posdf = res_df\n",
        "posdf = posdf[posdf.Sign==1]\n",
        "print(posdf)"
      ]
    },
    {
      "cell_type": "code",
      "execution_count": null,
      "metadata": {
        "id": "5G4SNBIjOKBE"
      },
      "outputs": [],
      "source": [
        "posg = nx.from_pandas_edgelist(posdf, 'Source', 'Target')"
      ]
    },
    {
      "cell_type": "code",
      "execution_count": null,
      "metadata": {
        "id": "uzxh3FuQR3Sz"
      },
      "outputs": [],
      "source": [
        "communities = nx_comm.louvain_communities(posg)"
      ]
    },
    {
      "cell_type": "code",
      "execution_count": null,
      "metadata": {
        "colab": {
          "base_uri": "https://localhost:8080/"
        },
        "id": "PbT3hJksSgt3",
        "outputId": "38911948-d41b-4831-8dd4-7a95b9c85d2a"
      },
      "outputs": [],
      "source": [
        "large_comm=[]\n",
        "for eachset in communities:\n",
        "  if(len(eachset)>=5):\n",
        "    large_comm.append(eachset)\n",
        "\n",
        "print(large_comm)"
      ]
    },
    {
      "cell_type": "code",
      "execution_count": null,
      "metadata": {
        "colab": {
          "base_uri": "https://localhost:8080/"
        },
        "id": "2A-qndyEUSqz",
        "outputId": "ae2de23f-7c04-47a1-b7ab-fe74ba20d51d"
      },
      "outputs": [
        {
          "name": "stdout",
          "output_type": "stream",
          "text": [
            "804\n"
          ]
        }
      ],
      "source": [
        "print(len(communities))"
      ]
    },
    {
      "cell_type": "code",
      "execution_count": null,
      "metadata": {
        "colab": {
          "base_uri": "https://localhost:8080/"
        },
        "id": "sXKx8MPxUMmr",
        "outputId": "82c04357-7945-466f-a784-0f07530918fe"
      },
      "outputs": [
        {
          "name": "stdout",
          "output_type": "stream",
          "text": [
            "56\n"
          ]
        }
      ],
      "source": [
        "print(len(large_comm))"
      ]
    },
    {
      "cell_type": "code",
      "execution_count": null,
      "metadata": {
        "id": "eOXbxPYW7Uqw"
      },
      "outputs": [],
      "source": [
        "commu = dict()\n",
        "for eachset in communities:\n",
        "  length = (len(eachset)//10)*10\n",
        "  if not length in commu:\n",
        "    commu[length]=1\n",
        "  else:\n",
        "    commu[length]+=1\n",
        "commu[0]=0"
      ]
    },
    {
      "cell_type": "code",
      "execution_count": null,
      "metadata": {
        "colab": {
          "base_uri": "https://localhost:8080/",
          "height": 447
        },
        "id": "YZImuEwc9vAu",
        "outputId": "5c43d1f1-b05d-44fd-b458-a7492ec420d9"
      },
      "outputs": [
        {
          "data": {
            "text/plain": [
              "<BarContainer object of 32 artists>"
            ]
          },
          "execution_count": 20,
          "metadata": {},
          "output_type": "execute_result"
        },
        {
          "data": {
            "image/png": "[encoded data removed]",
            "text/plain": [
              "<Figure size 640x480 with 1 Axes>"
            ]
          },
          "metadata": {},
          "output_type": "display_data"
        }
      ],
      "source": [
        "import matplotlib.ticker as ticker\n",
        "plt.xticks(np.arange(min(commu.keys()),max(commu.keys()), 1000.0))\n",
        "\n",
        "plt.bar(commu.keys(), commu.values(),50.0,color='r')"
      ]
    },
    {
      "cell_type": "code",
      "execution_count": null,
      "metadata": {
        "colab": {
          "base_uri": "https://localhost:8080/"
        },
        "id": "Bq63ZHr68zvW",
        "outputId": "65384297-4a8e-478e-fd59-fe4468875480"
      },
      "outputs": [
        {
          "name": "stdout",
          "output_type": "stream",
          "text": [
            "{0: 0, 11740: 1, 1290: 1, 430: 1, 10: 4, 3550: 1, 560: 1, 920: 1, 110: 1, 400: 1, 3650: 1, 1950: 1, 1690: 1, 620: 1, 20: 1, 1780: 1, 10730: 1, 100: 1, 1310: 1, 160: 1, 370: 1, 40: 1, 2130: 1, 200: 1, 340: 1, 240: 1, 140: 1, 10530: 1, 3500: 1, 610: 1, 1200: 1, 3360: 1}\n"
          ]
        }
      ],
      "source": [
        "print(commu)"
      ]
    },
    {
      "cell_type": "code",
      "execution_count": null,
      "metadata": {
        "colab": {
          "base_uri": "https://localhost:8080/"
        },
        "id": "0oGq1W2VUjZZ",
        "outputId": "5ba29a44-f248-4eec-f695-9f8305c09aba"
      },
      "outputs": [],
      "source": [
        "sr_set = dict()\n",
        "i=1\n",
        "for eachset in large_comm:\n",
        "  for sr in eachset:\n",
        "    sr_set[sr]=i\n",
        "  i=i+1\n",
        "\n",
        "print(sr_set)"
      ]
    },
    {
      "cell_type": "code",
      "execution_count": null,
      "metadata": {
        "colab": {
          "base_uri": "https://localhost:8080/"
        },
        "id": "WHQdiL9y4DdI",
        "outputId": "a30aeac1-25ca-41ba-fc51-8d99514a41dd"
      },
      "outputs": [
        {
          "data": {
            "text/plain": [
              "63991"
            ]
          },
          "execution_count": 23,
          "metadata": {},
          "output_type": "execute_result"
        }
      ],
      "source": [
        "len(sr_set)"
      ]
    },
    {
      "cell_type": "code",
      "execution_count": null,
      "metadata": {
        "colab": {
          "base_uri": "https://localhost:8080/"
        },
        "id": "uqAg5-7oWPWA",
        "outputId": "f128d4a6-b7d4-4bf3-e739-a3ffdf3f63b8"
      },
      "outputs": [],
      "source": [
        "inter_comm_neg = dict()\n",
        "for row in range(0,res_df.shape[0]):\n",
        "  if(res_df.iloc[row].Sign==-1):\n",
        "    if res_df.iloc[row].Source in sr_set and res_df.iloc[row].Target in sr_set:\n",
        "      l=[sr_set[res_df.iloc[row].Source], sr_set[res_df.iloc[row].Target]]\n",
        "      t=tuple(l)\n",
        "      if not t in inter_comm_neg:\n",
        "        inter_comm_neg[t]=1\n",
        "      else:\n",
        "        inter_comm_neg[t]+=1\n",
        "\n",
        "print(inter_comm_neg)"
      ]
    },
    {
      "cell_type": "code",
      "execution_count": null,
      "metadata": {
        "colab": {
          "base_uri": "https://localhost:8080/"
        },
        "id": "3d1RDRcEceT3",
        "outputId": "2d90dfe9-c035-49af-bfe5-0db773bb926a"
      },
      "outputs": [],
      "source": [
        "inter_comm_pos = dict()\n",
        "for row in range(0,res_df.shape[0]):\n",
        "  if(res_df.iloc[row].Sign==1):\n",
        "    if res_df.iloc[row].Source in sr_set and res_df.iloc[row].Target in sr_set:\n",
        "      l=[sr_set[res_df.iloc[row].Source], sr_set[res_df.iloc[row].Target]]\n",
        "      t=tuple(l)\n",
        "      if not t in inter_comm_pos:\n",
        "        inter_comm_pos[t]=1\n",
        "      else:\n",
        "        inter_comm_pos[t]+=1\n",
        "\n",
        "print(inter_comm_pos)"
      ]
    },
    {
      "cell_type": "code",
      "execution_count": null,
      "metadata": {
        "id": "Do0zmN1yNOr8"
      },
      "outputs": [],
      "source": [
        "comm_df = pd.DataFrame()\n",
        "for (s,t),val in inter_comm_neg.items():\n",
        "  if s!=t:\n",
        "    comm_df = comm_df.append(pd.Series([s,t,-val]), ignore_index=True)\n",
        "\n",
        "for (s,t),val in inter_comm_pos.items():\n",
        "  if s!=t:\n",
        "    comm_df = comm_df.append(pd.Series([s,t,val]), ignore_index=True)\n",
        "headers =  [\"source\",\"target\",\"edge_weight\"]\n",
        "comm_df.columns = headers"
      ]
    },
    {
      "cell_type": "code",
      "execution_count": null,
      "metadata": {
        "colab": {
          "base_uri": "https://localhost:8080/"
        },
        "id": "Lrl_LcLbQITY",
        "outputId": "89028135-c7f4-45d8-d9da-91945e1b785f"
      },
      "outputs": [
        {
          "data": {
            "text/plain": [
              "(879, 3)"
            ]
          },
          "execution_count": 47,
          "metadata": {},
          "output_type": "execute_result"
        }
      ],
      "source": [
        "comm_df.shape"
      ]
    },
    {
      "cell_type": "code",
      "execution_count": null,
      "metadata": {
        "colab": {
          "base_uri": "https://localhost:8080/",
          "height": 17
        },
        "id": "u-hGwnIKM5ab",
        "outputId": "2e8db216-aade-4bd7-e566-170afd30996c"
      },
      "outputs": [
        {
          "data": {
            "application/javascript": "\n    async function download(id, filename, size) {\n      if (!google.colab.kernel.accessAllowed) {\n        return;\n      }\n      const div = document.createElement('div');\n      const label = document.createElement('label');\n      label.textContent = `Downloading \"${filename}\": `;\n      div.appendChild(label);\n      const progress = document.createElement('progress');\n      progress.max = size;\n      div.appendChild(progress);\n      document.body.appendChild(div);\n\n      const buffers = [];\n      let downloaded = 0;\n\n      const channel = await google.colab.kernel.comms.open(id);\n      // Send a message to notify the kernel that we're ready.\n      channel.send({})\n\n      for await (const message of channel.messages) {\n        // Send a message to notify the kernel that we're ready.\n        channel.send({})\n        if (message.buffers) {\n          for (const buffer of message.buffers) {\n            buffers.push(buffer);\n            downloaded += buffer.byteLength;\n            progress.value = downloaded;\n          }\n        }\n      }\n      const blob = new Blob(buffers, {type: 'application/binary'});\n      const a = document.createElement('a');\n      a.href = window.URL.createObjectURL(blob);\n      a.download = filename;\n      div.appendChild(a);\n      a.click();\n      div.remove();\n    }\n  ",
            "text/plain": [
              "<IPython.core.display.Javascript object>"
            ]
          },
          "metadata": {},
          "output_type": "display_data"
        },
        {
          "data": {
            "application/javascript": "download(\"download_2a217524-5480-4cfb-b673-3293be59cd83\", \"filename.xlsx\", 22967)",
            "text/plain": [
              "<IPython.core.display.Javascript object>"
            ]
          },
          "metadata": {},
          "output_type": "display_data"
        }
      ],
      "source": [
        "comm_df.to_excel('filename.xlsx', sheet_name = 'New_sheet')\n",
        "files.download('filename.xlsx')"
      ]
    },
    {
      "cell_type": "code",
      "execution_count": null,
      "metadata": {
        "colab": {
          "base_uri": "https://localhost:8080/"
        },
        "id": "XgKKyDGzehJ6",
        "outputId": "1b8ded66-ef23-456e-ab03-241c9004bd9c"
      },
      "outputs": [],
      "source": [
        "comm_pos_neg = dict()\n",
        "#intra community positive, intra community negative, inter community positive, inter community negative\n",
        "for i in range(1,52):\n",
        "  comm_pos_neg[i]=[]\n",
        "  if (i,i) in inter_comm_pos:\n",
        "    comm_pos_neg[i].append(inter_comm_pos[(i,i)])\n",
        "  else:\n",
        "    comm_pos_neg[i].append(0)\n",
        "  if (i,i) in inter_comm_neg:\n",
        "    comm_pos_neg[i].append(inter_comm_neg[(i,i)])\n",
        "  else:\n",
        "    comm_pos_neg[i].append(0)\n",
        "  valp=0\n",
        "  valn=0\n",
        "  for j in range (1,52):\n",
        "    if j!=i:\n",
        "      if (i,j) in inter_comm_pos:\n",
        "        valp+=inter_comm_pos[(i,j)]\n",
        "      if (i,j) in inter_comm_neg:\n",
        "        valn+=inter_comm_neg[(i,j)]\n",
        "  \n",
        "  comm_pos_neg[i].append(valp)\n",
        "  comm_pos_neg[i].append(valn)\n",
        "\n",
        "print(comm_pos_neg)"
      ]
    },
    {
      "cell_type": "code",
      "execution_count": null,
      "metadata": {
        "id": "IZhYQtmmXC7g"
      },
      "outputs": [],
      "source": [
        "pos_pos = dict()\n",
        "pos_neg = dict()\n",
        "neg_neg = dict()\n",
        "\n",
        "for i in range(0,res_df.shape[0]):\n",
        "  if(res_df.iloc[i].Sign==1):\n",
        "    if (res_df.iloc[i].Target,res_df.iloc[i].Source) in pos_pos:\n",
        "      pos_pos[(res_df.iloc[i].Target,res_df.iloc[i].Source)][1] = 1\n",
        "      del pos_neg[(res_df.iloc[i].Target,res_df.iloc[i].Source)]\n",
        "    elif (res_df.iloc[i].Target,res_df.iloc[i].Source) in pos_neg:\n",
        "      pos_neg[(res_df.iloc[i].Target,res_df.iloc[i].Source)][1] = 1\n",
        "      del neg_neg[(res_df.iloc[i].Target,res_df.iloc[i].Source)]\n",
        "    else:\n",
        "      pos_pos[(res_df.iloc[i].Source,res_df.iloc[i].Target)] = [1,0]\n",
        "      pos_neg[(res_df.iloc[i].Source,res_df.iloc[i].Target)] = [1,0]\n",
        "  elif(res_df.iloc[i].Sign==-1):\n",
        "    if (res_df.iloc[i].Target,res_df.iloc[i].Source) in neg_neg:\n",
        "      neg_neg[(res_df.iloc[i].Target,res_df.iloc[i].Source)][1] = -1\n",
        "      del pos_neg[(res_df.iloc[i].Target,res_df.iloc[i].Source)]\n",
        "    elif (res_df.iloc[i].Target,res_df.iloc[i].Source) in pos_neg:\n",
        "      pos_neg[(res_df.iloc[i].Target,res_df.iloc[i].Source)][1] = -1\n",
        "      del pos_pos[(res_df.iloc[i].Target,res_df.iloc[i].Source)]\n",
        "    else:\n",
        "      neg_neg[(res_df.iloc[i].Source,res_df.iloc[i].Target)] = [-1,0]\n",
        "      pos_neg[(res_df.iloc[i].Source,res_df.iloc[i].Target)] = [-1,0]\n"
      ]
    },
    {
      "cell_type": "code",
      "execution_count": null,
      "metadata": {
        "id": "l3movvrbmSkV"
      },
      "outputs": [],
      "source": [
        "list_neg_neg = [];\n",
        "for key,val in neg_neg.items():\n",
        "  if val == [-1,-1]:\n",
        "    list_neg_neg.append(key)"
      ]
    },
    {
      "cell_type": "code",
      "execution_count": null,
      "metadata": {
        "colab": {
          "base_uri": "https://localhost:8080/"
        },
        "id": "mIb6220jo4wk",
        "outputId": "4f58a1a0-8e98-4200-f675-b7661557dffe"
      },
      "outputs": [
        {
          "name": "stdout",
          "output_type": "stream",
          "text": [
            "60\n"
          ]
        }
      ],
      "source": [
        "print(len(list_neg_neg))"
      ]
    },
    {
      "cell_type": "code",
      "execution_count": null,
      "metadata": {
        "id": "lE_SltsepZHq"
      },
      "outputs": [],
      "source": [
        "list_pos_neg = [];\n",
        "list_neg_pos = [];\n",
        "for key,val in pos_neg.items():\n",
        "  if val == [1,-1]:\n",
        "    list_pos_neg.append(key)\n",
        "  elif val == [-1,1]:\n",
        "    list_neg_pos.append(key)"
      ]
    },
    {
      "cell_type": "code",
      "execution_count": null,
      "metadata": {
        "colab": {
          "base_uri": "https://localhost:8080/"
        },
        "id": "uqHEU8yoqCyw",
        "outputId": "502f4d6b-ba92-4c36-dd02-217bc5052ff5"
      },
      "outputs": [
        {
          "name": "stdout",
          "output_type": "stream",
          "text": [
            "566\n",
            "623\n"
          ]
        }
      ],
      "source": [
        "print(len(list_pos_neg))\n",
        "print(len(list_neg_pos))"
      ]
    },
    {
      "cell_type": "code",
      "execution_count": null,
      "metadata": {
        "id": "pkG3kQEbp4Kg"
      },
      "outputs": [],
      "source": [
        "list_pos_pos = [];\n",
        "for key,val in pos_pos.items():\n",
        "  if val == [1,1]:\n",
        "    list_pos_pos.append(key)"
      ]
    },
    {
      "cell_type": "code",
      "execution_count": null,
      "metadata": {
        "colab": {
          "base_uri": "https://localhost:8080/"
        },
        "id": "e1KmYqccqIve",
        "outputId": "8bf1fb3d-deaf-4e7e-84f1-1387e8a8ab67"
      },
      "outputs": [
        {
          "name": "stdout",
          "output_type": "stream",
          "text": [
            "26526\n"
          ]
        }
      ],
      "source": [
        "print(len(list_pos_pos))"
      ]
    },
    {
      "cell_type": "code",
      "execution_count": null,
      "metadata": {
        "colab": {
          "base_uri": "https://localhost:8080/"
        },
        "id": "L6NSCMHXDHmf",
        "outputId": "9bfd3731-a2ec-44ce-8493-03bb744c0835"
      },
      "outputs": [],
      "source": [
        "print(list_neg_pos)"
      ]
    },
    {
      "cell_type": "code",
      "execution_count": null,
      "metadata": {
        "colab": {
          "base_uri": "https://localhost:8080/"
        },
        "id": "3e0lKumNDUtc",
        "outputId": "8fdb3e14-b27d-43d1-c896-d088f4dd5163"
      },
      "outputs": [],
      "source": [
        "print(list_pos_neg)"
      ]
    },
    {
      "cell_type": "code",
      "execution_count": null,
      "metadata": {
        "colab": {
          "base_uri": "https://localhost:8080/",
          "height": 447
        },
        "id": "Y_6sSaBo-2O9",
        "outputId": "f9a221de-46cd-4bca-e7ad-0545783dbc38"
      },
      "outputs": [
        {
          "data": {
            "text/plain": [
              "<BarContainer object of 4 artists>"
            ]
          },
          "execution_count": 60,
          "metadata": {},
          "output_type": "execute_result"
        },
        {
          "data": {
            "image/png": "[encoded data removed]",
            "text/plain": [
              "<Figure size 640x480 with 1 Axes>"
            ]
          },
          "metadata": {},
          "output_type": "display_data"
        }
      ],
      "source": [
        "freq_sam = []\n",
        "freq_sam.append(len(list_pos_pos))\n",
        "freq_sam.append(len(list_pos_neg))\n",
        "freq_sam.append(len(list_neg_pos))\n",
        "freq_sam.append(len(list_neg_neg))\n",
        "\n",
        "name =[\"+ +\", \"+ -\", \"- +\",\"- -\"]\n",
        "\n",
        "plt.bar(name, freq_sam)"
      ]
    },
    {
      "cell_type": "code",
      "execution_count": null,
      "metadata": {
        "colab": {
          "base_uri": "https://localhost:8080/"
        },
        "id": "AoF8x485_jPS",
        "outputId": "52ecc60e-82b4-4451-a254-c33770991264"
      },
      "outputs": [
        {
          "name": "stdout",
          "output_type": "stream",
          "text": [
            "[26526, 566, 623, 60]\n"
          ]
        }
      ],
      "source": [
        "print(freq_sam)"
      ]
    },
    {
      "cell_type": "markdown",
      "metadata": {
        "id": "7k8BLhdR958-"
      },
      "source": [
        "communities are not targetting other communities."
      ]
    },
    {
      "cell_type": "markdown",
      "metadata": {
        "id": "oL8xWAzFXgu9"
      },
      "source": [
        "## Triadic balance"
      ]
    },
    {
      "cell_type": "code",
      "execution_count": null,
      "metadata": {
        "colab": {
          "base_uri": "https://localhost:8080/",
          "height": 206
        },
        "id": "b02Jab2prADR",
        "outputId": "e457bbd0-8e41-456a-9194-be9e5398193c"
      },
      "outputs": [
        {
          "data": {
            "text/html": [
              "\n",
              "  <div id=\"df-aca5184c-12c0-4c16-b71d-79ecfa15db4d\">\n",
              "    <div class=\"colab-df-container\">\n",
              "      <div>\n",
              "<style scoped>\n",
              "    .dataframe tbody tr th:only-of-type {\n",
              "        vertical-align: middle;\n",
              "    }\n",
              "\n",
              "    .dataframe tbody tr th {\n",
              "        vertical-align: top;\n",
              "    }\n",
              "\n",
              "    .dataframe thead th {\n",
              "        text-align: right;\n",
              "    }\n",
              "</style>\n",
              "<table border=\"1\" class=\"dataframe\">\n",
              "  <thead>\n",
              "    <tr style=\"text-align: right;\">\n",
              "      <th></th>\n",
              "      <th>Source</th>\n",
              "      <th>Target</th>\n",
              "      <th>pos_edges</th>\n",
              "      <th>neg_edges</th>\n",
              "      <th>Sign</th>\n",
              "    </tr>\n",
              "  </thead>\n",
              "  <tbody>\n",
              "    <tr>\n",
              "      <th>0</th>\n",
              "      <td>7</td>\n",
              "      <td>daniel_craig</td>\n",
              "      <td>1</td>\n",
              "      <td>0</td>\n",
              "      <td>1</td>\n",
              "    </tr>\n",
              "    <tr>\n",
              "      <th>1</th>\n",
              "      <td>125</td>\n",
              "      <td>markmywords</td>\n",
              "      <td>1</td>\n",
              "      <td>0</td>\n",
              "      <td>1</td>\n",
              "    </tr>\n",
              "    <tr>\n",
              "      <th>2</th>\n",
              "      <td>195</td>\n",
              "      <td>advice</td>\n",
              "      <td>0</td>\n",
              "      <td>1</td>\n",
              "      <td>-1</td>\n",
              "    </tr>\n",
              "    <tr>\n",
              "      <th>3</th>\n",
              "      <td>195</td>\n",
              "      <td>anime</td>\n",
              "      <td>1</td>\n",
              "      <td>0</td>\n",
              "      <td>1</td>\n",
              "    </tr>\n",
              "    <tr>\n",
              "      <th>4</th>\n",
              "      <td>195</td>\n",
              "      <td>askreddit</td>\n",
              "      <td>8</td>\n",
              "      <td>3</td>\n",
              "      <td>1</td>\n",
              "    </tr>\n",
              "  </tbody>\n",
              "</table>\n",
              "</div>\n",
              "      <button class=\"colab-df-convert\" onclick=\"convertToInteractive('df-aca5184c-12c0-4c16-b71d-79ecfa15db4d')\"\n",
              "              title=\"Convert this dataframe to an interactive table.\"\n",
              "              style=\"display:none;\">\n",
              "        \n",
              "  <svg xmlns=\"http://www.w3.org/2000/svg\" height=\"24px\"viewBox=\"0 0 24 24\"\n",
              "       width=\"24px\">\n",
              "    <path d=\"M0 0h24v24H0V0z\" fill=\"none\"/>\n",
              "    <path d=\"M18.56 5.44l.94 2.06.94-2.06 2.06-.94-2.06-.94-.94-2.06-.94 2.06-2.06.94zm-11 1L8.5 8.5l.94-2.06 2.06-.94-2.06-.94L8.5 2.5l-.94 2.06-2.06.94zm10 10l.94 2.06.94-2.06 2.06-.94-2.06-.94-.94-2.06-.94 2.06-2.06.94z\"/><path d=\"M17.41 7.96l-1.37-1.37c-.4-.4-.92-.59-1.43-.59-.52 0-1.04.2-1.43.59L10.3 9.45l-7.72 7.72c-.78.78-.78 2.05 0 2.83L4 21.41c.39.39.9.59 1.41.59.51 0 1.02-.2 1.41-.59l7.78-7.78 2.81-2.81c.8-.78.8-2.07 0-2.86zM5.41 20L4 18.59l7.72-7.72 1.47 1.35L5.41 20z\"/>\n",
              "  </svg>\n",
              "      </button>\n",
              "      \n",
              "  <style>\n",
              "    .colab-df-container {\n",
              "      display:flex;\n",
              "      flex-wrap:wrap;\n",
              "      gap: 12px;\n",
              "    }\n",
              "\n",
              "    .colab-df-convert {\n",
              "      background-color: #E8F0FE;\n",
              "      border: none;\n",
              "      border-radius: 50%;\n",
              "      cursor: pointer;\n",
              "      display: none;\n",
              "      fill: #1967D2;\n",
              "      height: 32px;\n",
              "      padding: 0 0 0 0;\n",
              "      width: 32px;\n",
              "    }\n",
              "\n",
              "    .colab-df-convert:hover {\n",
              "      background-color: #E2EBFA;\n",
              "      box-shadow: 0px 1px 2px rgba(60, 64, 67, 0.3), 0px 1px 3px 1px rgba(60, 64, 67, 0.15);\n",
              "      fill: #174EA6;\n",
              "    }\n",
              "\n",
              "    [theme=dark] .colab-df-convert {\n",
              "      background-color: #3B4455;\n",
              "      fill: #D2E3FC;\n",
              "    }\n",
              "\n",
              "    [theme=dark] .colab-df-convert:hover {\n",
              "      background-color: #434B5C;\n",
              "      box-shadow: 0px 1px 3px 1px rgba(0, 0, 0, 0.15);\n",
              "      filter: drop-shadow(0px 1px 2px rgba(0, 0, 0, 0.3));\n",
              "      fill: #FFFFFF;\n",
              "    }\n",
              "  </style>\n",
              "\n",
              "      <script>\n",
              "        const buttonEl =\n",
              "          document.querySelector('#df-aca5184c-12c0-4c16-b71d-79ecfa15db4d button.colab-df-convert');\n",
              "        buttonEl.style.display =\n",
              "          google.colab.kernel.accessAllowed ? 'block' : 'none';\n",
              "\n",
              "        async function convertToInteractive(key) {\n",
              "          const element = document.querySelector('#df-aca5184c-12c0-4c16-b71d-79ecfa15db4d');\n",
              "          const dataTable =\n",
              "            await google.colab.kernel.invokeFunction('convertToInteractive',\n",
              "                                                     [key], {});\n",
              "          if (!dataTable) return;\n",
              "\n",
              "          const docLinkHtml = 'Like what you see? Visit the ' +\n",
              "            '<a target=\"_blank\" href=https://colab.research.google.com/notebooks/data_table.ipynb>data table notebook</a>'\n",
              "            + ' to learn more about interactive tables.';\n",
              "          element.innerHTML = '';\n",
              "          dataTable['output_type'] = 'display_data';\n",
              "          await google.colab.output.renderOutput(dataTable, element);\n",
              "          const docLink = document.createElement('div');\n",
              "          docLink.innerHTML = docLinkHtml;\n",
              "          element.appendChild(docLink);\n",
              "        }\n",
              "      </script>\n",
              "    </div>\n",
              "  </div>\n",
              "  "
            ],
            "text/plain": [
              "  Source        Target  pos_edges  neg_edges  Sign\n",
              "0      7  daniel_craig          1          0     1\n",
              "1    125   markmywords          1          0     1\n",
              "2    195        advice          0          1    -1\n",
              "3    195         anime          1          0     1\n",
              "4    195     askreddit          8          3     1"
            ]
          },
          "execution_count": 62,
          "metadata": {},
          "output_type": "execute_result"
        }
      ],
      "source": [
        "res_df.head()"
      ]
    },
    {
      "cell_type": "code",
      "execution_count": null,
      "metadata": {
        "id": "673twS56gO0-"
      },
      "outputs": [],
      "source": [
        "g1=nx.DiGraph()\n",
        "for x in range(0,res_df.shape[0]):\n",
        "  g1.add_edge(res_df.iloc[x].Source,res_df.iloc[x].Target, weight=np.sign(int(res_df.iloc[x].Sign)))"
      ]
    },
    {
      "cell_type": "code",
      "execution_count": null,
      "metadata": {
        "colab": {
          "base_uri": "https://localhost:8080/"
        },
        "id": "s7tWSz_Ov8cZ",
        "outputId": "c5cf0859-6f17-4f87-d5e1-d392bcc3a9e0"
      },
      "outputs": [],
      "source": [
        "nodes_list = list(g1)\n",
        "#nodes_list = list(map(str,nodes_list))\n",
        "print(nodes_list)"
      ]
    },
    {
      "cell_type": "code",
      "execution_count": null,
      "metadata": {
        "id": "nlnGEK6K3u0B"
      },
      "outputs": [],
      "source": [
        "import copy"
      ]
    },
    {
      "cell_type": "code",
      "execution_count": null,
      "metadata": {
        "id": "WPXkLwjpdyFt"
      },
      "outputs": [],
      "source": [
        "graph_list = []\n",
        "for i in range(0,len(large_comm)):\n",
        "  newg=copy.deepcopy(g1)\n",
        "  for node in nodes_list:\n",
        "    if not node in large_comm[i]:\n",
        "      newg.remove_node(node)\n",
        "  graph_list.append(newg)"
      ]
    },
    {
      "cell_type": "code",
      "execution_count": null,
      "metadata": {
        "id": "6eYEbLH2hjuN"
      },
      "outputs": [],
      "source": [
        "gl2=[]\n",
        "for gx in graph_list:\n",
        "  edge_list = list(gx.edges(data=True))\n",
        "\n",
        "  # Print the edge list with weights\n",
        "  zero_list = []\n",
        "  for u, v, data in edge_list:\n",
        "      if data['weight']==0:\n",
        "        zero_list.append((u,v))\n",
        "  #print(zero_list)\n",
        "  gx.remove_edges_from(zero_list)\n",
        "  gl2.append(gx)"
      ]
    },
    {
      "cell_type": "code",
      "execution_count": null,
      "metadata": {
        "id": "5IRV5gwalDCk"
      },
      "outputs": [],
      "source": [
        "# cnt=0\n",
        "# edge_list = list(g1.edges(data=True))\n",
        "# for u, v, data in edge_list:\n",
        "#     if data['weight']==0:\n",
        "#       cnt+=1\n",
        "# print(cnt)"
      ]
    },
    {
      "cell_type": "code",
      "execution_count": null,
      "metadata": {
        "id": "Hu8xipCx5m-N"
      },
      "outputs": [],
      "source": [
        "gr_temp = copy.deepcopy(graph_list)"
      ]
    },
    {
      "cell_type": "code",
      "execution_count": null,
      "metadata": {
        "id": "c_ID2JcxsdBZ"
      },
      "outputs": [],
      "source": [
        "mapped_list=[]\n",
        "for gx in gl2:\n",
        "  mapping=dict(zip(gx.nodes(),range(len(gx.nodes()))))\n",
        "  gx=nx.relabel_nodes(gx,mapping)\n",
        "  mapped_list.append(gx)"
      ]
    },
    {
      "cell_type": "code",
      "execution_count": null,
      "metadata": {
        "colab": {
          "base_uri": "https://localhost:8080/"
        },
        "id": "hwGORZp_XhXP",
        "outputId": "e2d58eb0-5d3b-4457-8e31-c423db21ddb5"
      },
      "outputs": [
        {
          "name": "stdout",
          "output_type": "stream",
          "text": [
            "-------------------------Triadic balance-----------------------------\n",
            "index:  0\n",
            "Triad Level Balance:  0.9262636168464576\n",
            "Number of balance and transitive triads:  34947\n",
            "Number of imbalance and transitive triads:  2782\n",
            "Number of balance triads in each census {'030T': 15431, '300': 3782, '120U': 4789, '120D': 10945}\n",
            "Number of imbalance triads in each census {'300': 144, '120U': 335, '120D': 842, '030T': 1461}\n",
            "index:  1\n",
            "Triad Level Balance:  0.9453781512605042\n",
            "Number of balance and transitive triads:  225\n",
            "Number of imbalance and transitive triads:  13\n",
            "Number of balance triads in each census {'300': 17, '030T': 104, '120U': 52, '120D': 52}\n",
            "Number of imbalance triads in each census {'030T': 7, '300': 4, '120U': 1, '120D': 1}\n",
            "index:  2\n",
            "Number of balance and transitive triads:  0\n",
            "Number of imbalance and transitive triads:  0\n",
            "Number of balance triads in each census {}\n",
            "Number of imbalance triads in each census {}\n",
            "index:  3\n",
            "Number of balance and transitive triads:  0\n",
            "Number of imbalance and transitive triads:  0\n",
            "Number of balance triads in each census {}\n",
            "Number of imbalance triads in each census {}\n",
            "index:  4\n",
            "Triad Level Balance:  0.9346246973365617\n",
            "Number of balance and transitive triads:  386\n",
            "Number of imbalance and transitive triads:  27\n",
            "Number of balance triads in each census {'300': 15, '120U': 28, '030T': 170, '120D': 173}\n",
            "Number of imbalance triads in each census {'120U': 3, '030T': 15, '120D': 9}\n",
            "index:  5\n",
            "Number of balance and transitive triads:  0\n",
            "Number of imbalance and transitive triads:  0\n",
            "Number of balance triads in each census {}\n",
            "Number of imbalance triads in each census {}\n",
            "index:  6\n",
            "Triad Level Balance:  0.9505608641462401\n",
            "Number of balance and transitive triads:  2288\n",
            "Number of imbalance and transitive triads:  119\n",
            "Number of balance triads in each census {'120D': 705, '120U': 438, '300': 252, '030T': 893}\n",
            "Number of imbalance triads in each census {'120U': 17, '300': 5, '030T': 61, '120D': 36}\n",
            "index:  7\n",
            "Triad Level Balance:  0.8981481481481481\n",
            "Number of balance and transitive triads:  485\n",
            "Number of imbalance and transitive triads:  55\n",
            "Number of balance triads in each census {'300': 31, '120U': 96, '030T': 237, '120D': 121}\n",
            "Number of imbalance triads in each census {'120U': 12, '030T': 27, '300': 3, '120D': 13}\n",
            "index:  8\n",
            "Triad Level Balance:  0.9746835443037974\n",
            "Number of balance and transitive triads:  616\n",
            "Number of imbalance and transitive triads:  16\n",
            "Number of balance triads in each census {'300': 62, '120U': 164, '030T': 182, '120D': 208}\n",
            "Number of imbalance triads in each census {'120U': 2, '030T': 11, '120D': 3}\n",
            "index:  9\n",
            "Triad Level Balance:  1.0\n",
            "Number of balance and transitive triads:  1\n",
            "Number of imbalance and transitive triads:  0\n",
            "Number of balance triads in each census {'030T': 1}\n",
            "Number of imbalance triads in each census {}\n",
            "index:  10\n",
            "Triad Level Balance:  0.9666666666666667\n",
            "Number of balance and transitive triads:  29\n",
            "Number of imbalance and transitive triads:  1\n",
            "Number of balance triads in each census {'120U': 7, '300': 1, '030T': 7, '120D': 14}\n",
            "Number of imbalance triads in each census {'120D': 1}\n",
            "index:  11\n",
            "Triad Level Balance:  0.9768133174791914\n",
            "Number of balance and transitive triads:  4929\n",
            "Number of imbalance and transitive triads:  117\n",
            "Number of balance triads in each census {'120D': 1163, '120U': 695, '030T': 2792, '300': 279}\n",
            "Number of imbalance triads in each census {'120U': 13, '300': 7, '030T': 61, '120D': 36}\n",
            "index:  12\n",
            "Triad Level Balance:  0.9441860465116279\n",
            "Number of balance and transitive triads:  609\n",
            "Number of imbalance and transitive triads:  36\n",
            "Number of balance triads in each census {'120U': 94, '030T': 353, '120D': 126, '300': 36}\n",
            "Number of imbalance triads in each census {'030T': 28, '120U': 5, '120D': 3}\n",
            "index:  13\n",
            "Triad Level Balance:  0.9781696053736356\n",
            "Number of balance and transitive triads:  1165\n",
            "Number of imbalance and transitive triads:  26\n",
            "Number of balance triads in each census {'300': 166, '120U': 330, '030T': 396, '120D': 273}\n",
            "Number of imbalance triads in each census {'300': 5, '120U': 5, '030T': 11, '120D': 5}\n",
            "index:  14\n",
            "Triad Level Balance:  0.9743589743589743\n",
            "Number of balance and transitive triads:  380\n",
            "Number of imbalance and transitive triads:  10\n",
            "Number of balance triads in each census {'120U': 79, '300': 110, '030T': 92, '120D': 99}\n",
            "Number of imbalance triads in each census {'120U': 1, '030T': 4, '120D': 5}\n",
            "index:  15\n",
            "Number of balance and transitive triads:  0\n",
            "Number of imbalance and transitive triads:  0\n",
            "Number of balance triads in each census {}\n",
            "Number of imbalance triads in each census {}\n",
            "index:  16\n",
            "Triad Level Balance:  1.0\n",
            "Number of balance and transitive triads:  1\n",
            "Number of imbalance and transitive triads:  0\n",
            "Number of balance triads in each census {'030T': 1}\n",
            "Number of imbalance triads in each census {}\n",
            "index:  17\n",
            "Triad Level Balance:  0.9525483304042179\n",
            "Number of balance and transitive triads:  1084\n",
            "Number of imbalance and transitive triads:  54\n",
            "Number of balance triads in each census {'300': 190, '120U': 302, '120D': 265, '030T': 327}\n",
            "Number of imbalance triads in each census {'300': 5, '120U': 11, '030T': 25, '120D': 13}\n",
            "index:  18\n",
            "Triad Level Balance:  0.7961040292951901\n",
            "Number of balance and transitive triads:  131963\n",
            "Number of imbalance and transitive triads:  33798\n",
            "Number of balance triads in each census {'120D': 30069, '030T': 78907, '120U': 19609, '300': 3378}\n",
            "Number of imbalance triads in each census {'120D': 6914, '030T': 20397, '300': 725, '120U': 5762}\n",
            "index:  19\n",
            "Triad Level Balance:  1.0\n",
            "Number of balance and transitive triads:  3\n",
            "Number of imbalance and transitive triads:  0\n",
            "Number of balance triads in each census {'120D': 3}\n",
            "Number of imbalance triads in each census {}\n",
            "index:  20\n",
            "Triad Level Balance:  1.0\n",
            "Number of balance and transitive triads:  6\n",
            "Number of imbalance and transitive triads:  0\n",
            "Number of balance triads in each census {'300': 2, '120D': 3, '030T': 1}\n",
            "Number of imbalance triads in each census {}\n",
            "index:  21\n",
            "Triad Level Balance:  0.9603448275862069\n",
            "Number of balance and transitive triads:  557\n",
            "Number of imbalance and transitive triads:  23\n",
            "Number of balance triads in each census {'120U': 111, '300': 69, '030T': 190, '120D': 187}\n",
            "Number of imbalance triads in each census {'300': 4, '120U': 4, '120D': 12, '030T': 3}\n",
            "index:  22\n",
            "Triad Level Balance:  1.0\n",
            "Number of balance and transitive triads:  26\n",
            "Number of imbalance and transitive triads:  0\n",
            "Number of balance triads in each census {'300': 2, '120U': 2, '120D': 14, '030T': 8}\n",
            "Number of imbalance triads in each census {}\n",
            "index:  23\n",
            "Triad Level Balance:  0.9847715736040609\n",
            "Number of balance and transitive triads:  194\n",
            "Number of imbalance and transitive triads:  3\n",
            "Number of balance triads in each census {'300': 30, '120U': 42, '030T': 51, '120D': 71}\n",
            "Number of imbalance triads in each census {'030T': 1, '120D': 1, '120U': 1}\n",
            "index:  24\n",
            "Number of balance and transitive triads:  0\n",
            "Number of imbalance and transitive triads:  0\n",
            "Number of balance triads in each census {}\n",
            "Number of imbalance triads in each census {}\n",
            "index:  25\n",
            "Triad Level Balance:  0.9527432919503404\n",
            "Number of balance and transitive triads:  2379\n",
            "Number of imbalance and transitive triads:  118\n",
            "Number of balance triads in each census {'120U': 514, '300': 417, '030T': 751, '120D': 697}\n",
            "Number of imbalance triads in each census {'030T': 33, '300': 26, '120U': 31, '120D': 28}\n",
            "index:  26\n",
            "Number of balance and transitive triads:  0\n",
            "Number of imbalance and transitive triads:  0\n",
            "Number of balance triads in each census {}\n",
            "Number of imbalance triads in each census {}\n",
            "index:  27\n",
            "Number of balance and transitive triads:  0\n",
            "Number of imbalance and transitive triads:  0\n",
            "Number of balance triads in each census {}\n",
            "Number of imbalance triads in each census {}\n",
            "index:  28\n",
            "Triad Level Balance:  0.972972972972973\n",
            "Number of balance and transitive triads:  468\n",
            "Number of imbalance and transitive triads:  13\n",
            "Number of balance triads in each census {'300': 255, '120U': 121, '030T': 43, '120D': 49}\n",
            "Number of imbalance triads in each census {'300': 2, '120U': 1, '120D': 8, '030T': 2}\n",
            "index:  29\n",
            "Number of balance and transitive triads:  0\n",
            "Number of imbalance and transitive triads:  0\n",
            "Number of balance triads in each census {}\n",
            "Number of imbalance triads in each census {}\n",
            "index:  30\n",
            "Number of balance and transitive triads:  0\n",
            "Number of imbalance and transitive triads:  0\n",
            "Number of balance triads in each census {}\n",
            "Number of imbalance triads in each census {}\n",
            "index:  31\n",
            "Triad Level Balance:  0.9425287356321839\n",
            "Number of balance and transitive triads:  82\n",
            "Number of imbalance and transitive triads:  5\n",
            "Number of balance triads in each census {'120D': 28, '120U': 20, '300': 11, '030T': 23}\n",
            "Number of imbalance triads in each census {'030T': 2, '300': 1, '120D': 2}\n",
            "index:  32\n",
            "Triad Level Balance:  0.8857142857142857\n",
            "Number of balance and transitive triads:  248\n",
            "Number of imbalance and transitive triads:  32\n",
            "Number of balance triads in each census {'120D': 34, '120U': 81, '030T': 131, '300': 2}\n",
            "Number of imbalance triads in each census {'120D': 5, '030T': 25, '300': 1, '120U': 1}\n",
            "index:  33\n",
            "Triad Level Balance:  0.9456521739130435\n",
            "Number of balance and transitive triads:  87\n",
            "Number of imbalance and transitive triads:  5\n",
            "Number of balance triads in each census {'300': 26, '120U': 23, '120D': 21, '030T': 17}\n",
            "Number of imbalance triads in each census {'300': 1, '120U': 2, '030T': 2}\n",
            "index:  34\n",
            "Triad Level Balance:  1.0\n",
            "Number of balance and transitive triads:  1\n",
            "Number of imbalance and transitive triads:  0\n",
            "Number of balance triads in each census {'030T': 1}\n",
            "Number of imbalance triads in each census {}\n",
            "index:  35\n",
            "Triad Level Balance:  0.81041173293448\n",
            "Number of balance and transitive triads:  97529\n",
            "Number of imbalance and transitive triads:  22816\n",
            "Number of balance triads in each census {'030T': 70844, '120D': 17224, '120U': 8340, '300': 1121}\n",
            "Number of imbalance triads in each census {'120D': 3725, '030T': 16528, '120U': 2374, '300': 189}\n",
            "index:  36\n",
            "Triad Level Balance:  1.0\n",
            "Number of balance and transitive triads:  4\n",
            "Number of imbalance and transitive triads:  0\n",
            "Number of balance triads in each census {'120D': 3, '030T': 1}\n",
            "Number of imbalance triads in each census {}\n",
            "index:  37\n",
            "Number of balance and transitive triads:  0\n",
            "Number of imbalance and transitive triads:  0\n",
            "Number of balance triads in each census {}\n",
            "Number of imbalance triads in each census {}\n",
            "index:  38\n",
            "Number of balance and transitive triads:  0\n",
            "Number of imbalance and transitive triads:  0\n",
            "Number of balance triads in each census {}\n",
            "Number of imbalance triads in each census {}\n",
            "index:  39\n",
            "Number of balance and transitive triads:  0\n",
            "Number of imbalance and transitive triads:  0\n",
            "Number of balance triads in each census {}\n",
            "Number of imbalance triads in each census {}\n",
            "index:  40\n",
            "Number of balance and transitive triads:  0\n",
            "Number of imbalance and transitive triads:  0\n",
            "Number of balance triads in each census {}\n",
            "Number of imbalance triads in each census {}\n",
            "index:  41\n",
            "Triad Level Balance:  1.0\n",
            "Number of balance and transitive triads:  17\n",
            "Number of imbalance and transitive triads:  0\n",
            "Number of balance triads in each census {'300': 1, '120D': 15, '030T': 1}\n",
            "Number of imbalance triads in each census {}\n",
            "index:  42\n",
            "Triad Level Balance:  1.0\n",
            "Number of balance and transitive triads:  3\n",
            "Number of imbalance and transitive triads:  0\n",
            "Number of balance triads in each census {'030T': 3}\n",
            "Number of imbalance triads in each census {}\n",
            "index:  43\n",
            "Triad Level Balance:  0.9596811690468283\n",
            "Number of balance and transitive triads:  14448\n",
            "Number of imbalance and transitive triads:  607\n",
            "Number of balance triads in each census {'120D': 1792, '030T': 3598, '120U': 2483, '300': 6575}\n",
            "Number of imbalance triads in each census {'300': 55, '120D': 161, '030T': 242, '120U': 149}\n",
            "index:  44\n",
            "Number of balance and transitive triads:  0\n",
            "Number of imbalance and transitive triads:  0\n",
            "Number of balance triads in each census {}\n",
            "Number of imbalance triads in each census {}\n",
            "index:  45\n",
            "Number of balance and transitive triads:  0\n",
            "Number of imbalance and transitive triads:  0\n",
            "Number of balance triads in each census {}\n",
            "Number of imbalance triads in each census {}\n",
            "index:  46\n",
            "Triad Level Balance:  1.0\n",
            "Number of balance and transitive triads:  1\n",
            "Number of imbalance and transitive triads:  0\n",
            "Number of balance triads in each census {'120D': 1}\n",
            "Number of imbalance triads in each census {}\n",
            "index:  47\n",
            "Triad Level Balance:  1.0\n",
            "Number of balance and transitive triads:  2\n",
            "Number of imbalance and transitive triads:  0\n",
            "Number of balance triads in each census {'120D': 2}\n",
            "Number of imbalance triads in each census {}\n",
            "index:  48\n",
            "Number of balance and transitive triads:  0\n",
            "Number of imbalance and transitive triads:  0\n",
            "Number of balance triads in each census {}\n",
            "Number of imbalance triads in each census {}\n",
            "index:  49\n",
            "Number of balance and transitive triads:  0\n",
            "Number of imbalance and transitive triads:  0\n",
            "Number of balance triads in each census {}\n",
            "Number of imbalance triads in each census {}\n",
            "index:  50\n",
            "Triad Level Balance:  0.9804878048780488\n",
            "Number of balance and transitive triads:  402\n",
            "Number of imbalance and transitive triads:  8\n",
            "Number of balance triads in each census {'300': 47, '120U': 29, '120D': 153, '030T': 173}\n",
            "Number of imbalance triads in each census {'030T': 2, '120D': 6}\n",
            "index:  51\n",
            "Number of balance and transitive triads:  0\n",
            "Number of imbalance and transitive triads:  0\n",
            "Number of balance triads in each census {}\n",
            "Number of imbalance triads in each census {}\n",
            "index:  52\n",
            "Number of balance and transitive triads:  0\n",
            "Number of imbalance and transitive triads:  0\n",
            "Number of balance triads in each census {}\n",
            "Number of imbalance triads in each census {}\n",
            "index:  53\n",
            "Triad Level Balance:  0.8648648648648649\n",
            "Number of balance and transitive triads:  32\n",
            "Number of imbalance and transitive triads:  5\n",
            "Number of balance triads in each census {'300': 1, '120U': 1, '030T': 28, '120D': 2}\n",
            "Number of imbalance triads in each census {'120D': 3, '120U': 2}\n",
            "index:  54\n",
            "Number of balance and transitive triads:  0\n",
            "Number of imbalance and transitive triads:  0\n",
            "Number of balance triads in each census {}\n",
            "Number of imbalance triads in each census {}\n",
            "index:  55\n",
            "Triad Level Balance:  0.9361386138613862\n",
            "Number of balance and transitive triads:  1891\n",
            "Number of imbalance and transitive triads:  129\n",
            "Number of balance triads in each census {'120U': 371, '300': 133, '120D': 501, '030T': 886}\n",
            "Number of imbalance triads in each census {'300': 11, '120D': 45, '120U': 20, '030T': 53}\n"
          ]
        }
      ],
      "source": [
        "import pandas as pd\n",
        "from networkx import *\n",
        "import numpy as np\n",
        "import networkx as nx\n",
        "import itertools\n",
        "from itertools import combinations\n",
        "import time\n",
        "import pickle\n",
        "from multiprocessing import Pool\n",
        "\n",
        "\n",
        "## counting the number of instances in a list\n",
        "def count_lists(mylist):            \n",
        "    new_dict = {}\n",
        "    for i in mylist:\n",
        "        if i[1] not in new_dict:\n",
        "            new_dict[i[1]] = 1\n",
        "        else:\n",
        "            new_dict[i[1]] += 1\n",
        "    return (new_dict)            \n",
        "\n",
        "## Get all triples in triads with respect to their census and edgelists (in edge_atts)\n",
        "def get_directed_triads(triads):\n",
        "    # Get all triplets of edges\n",
        "    for candidate_edges in combinations(triads.items(), 3):\n",
        "        # Get edges between unique pair of nodes\n",
        "        unique_edges = set([tuple(sorted(k)) for k,v in candidate_edges])\n",
        "        # Only consider triad in which the tree edges use a unique pair of nodes\n",
        "        if len(unique_edges) == 3:\n",
        "            yield dict(candidate_edges)\n",
        "            \n",
        "## searching through traids\n",
        "def search_triangles(G, nodes = None):\n",
        "    if nodes is None:\n",
        "        nodes_nbrs = G.adj.items()\n",
        "    else:\n",
        "        nodes_nbrs = ((n, G[n]) for n in G.nbunch_iter(nodes))\n",
        "    for v, v_nbrs in nodes_nbrs:\n",
        "        vs = set(v_nbrs) - {v}\n",
        "        for w in vs:\n",
        "            #print(w)\n",
        "            xx = vs & (set(G[w]) - {w})\n",
        "            yield [ set(x) for x in list(zip(itertools.repeat(v), itertools.repeat(w), list(xx))) ]\n",
        "            \n",
        "#Calculate balance in traids (main function)\n",
        "def calculate_traid_balance(G_new):\n",
        "    triad_dict = {}\n",
        "    triad_class = {}\n",
        "    all_triads = []\n",
        "    ## there are only 4 transistive census: 030T, 120D, 120U, and 300 \n",
        "    non_transitive_census = ['003','012', '102', '021D', '021C', '021U', '021', '111U', '111D', '201', '030C', '120C', '210']\n",
        "    all_triad = nx.triangles(G_new.to_undirected())\n",
        "    iter_g = search_triangles(G_new)\n",
        "    \n",
        "    for iter_t in iter_g:\n",
        "        for ta in list(iter_t):\n",
        "            tt = \",\".join([str(x) for x in sorted(set(ta))])\n",
        "            triad_dict[tt] = True\n",
        "            \n",
        "\n",
        "    for val in triad_dict.keys():\n",
        "        nodes = [int(x) for x in val.split(\",\")]\n",
        "        census = [k for k, v in nx.triads.triadic_census(G_new.subgraph(nodes)).items() if v][0]\n",
        "        if census not in non_transitive_census:\n",
        "            sign = nx.get_edge_attributes(G_new.subgraph(nodes),'weight')\n",
        "            triad_class[val] = [census, sign]\n",
        "            #map_census_edges(G_new, val, triad_class)     \n",
        "\n",
        "    \n",
        "    for key, value in triad_class.items():\n",
        "        all_directed_triads = list(get_directed_triads(value[1]))\n",
        "        all_triads.append([all_directed_triads, value[0]])\n",
        "            \n",
        "    ## getting the balance vs. imbalance triads \n",
        "    balances = []\n",
        "    imbalances = []\n",
        "    for items in all_triads:\n",
        "        balance_list = []\n",
        "        \n",
        "        ## removing two cycles from 300 and then calculate balance\n",
        "        if items[1] == '300':\n",
        "            for triangle in items[0]:\n",
        "                node = []\n",
        "                for edge in triangle:\n",
        "                    if edge[0] not in node:\n",
        "                        node.append(edge[0])\n",
        "                if len(node) != 3:\n",
        "                    balance = 1\n",
        "                    for edge in triangle:\n",
        "                        balance *= triangle[edge]\n",
        "                    balance_list.append(balance)\n",
        "        else:\n",
        "            for item in items[0]:\n",
        "                balance = 1\n",
        "                for edge in item:\n",
        "                    balance *= item[edge]\n",
        "                balance_list.append(balance)\n",
        "        neg = []\n",
        "        for n in balance_list:\n",
        "            if n <= 0 :\n",
        "                neg.append(n)\n",
        "        if neg:\n",
        "            imbalances.append(items)\n",
        "        else:\n",
        "            balances.append(items)\n",
        "            \n",
        "    if(len(balances) + len(imbalances)!=0):\n",
        "       print('Triad Level Balance: ', (len(balances)/(len(balances) + len(imbalances))))        \n",
        "    print ('Number of balance and transitive triads: ', len(balances))\n",
        "    print ('Number of imbalance and transitive triads: ', len(imbalances))\n",
        "    \n",
        "    print('Number of balance triads in each census', count_lists(balances))\n",
        "    print('Number of imbalance triads in each census', count_lists(imbalances))\n",
        "\n",
        "## iterate through the list of graphs to calculate balance in triads\n",
        "print ('-------------------------Triadic balance-----------------------------')\n",
        "for i in range(0,len(mapped_list)):\n",
        "  print ('index: ', i)\n",
        "  calculate_traid_balance(mapped_list[i])"
      ]
    },
    {
      "cell_type": "code",
      "execution_count": null,
      "metadata": {
        "colab": {
          "base_uri": "https://localhost:8080/"
        },
        "id": "4nQ2rhc-Rfnt",
        "outputId": "6830cabe-875c-4790-e2d3-7d6abafdab23"
      },
      "outputs": [
        {
          "name": "stdout",
          "output_type": "stream",
          "text": [
            "9\n"
          ]
        }
      ],
      "source": [
        "print(len(large_comm[34]))"
      ]
    },
    {
      "cell_type": "markdown",
      "metadata": {
        "id": "vc737KsyOMUo"
      },
      "source": [
        "# Temporal Analysis"
      ]
    },
    {
      "cell_type": "markdown",
      "metadata": {
        "id": "qcb_qduwhBVi"
      },
      "source": [
        "## Full Data"
      ]
    },
    {
      "cell_type": "code",
      "execution_count": null,
      "metadata": {
        "id": "B3-sEPZzgR7s"
      },
      "outputs": [],
      "source": [
        "dfe = dict()\n",
        "for row in range(0,df.shape[0]):\n",
        "  if not df.iloc[row].Source in dfe:\n",
        "    dfe[df.iloc[row].Source]=df.iloc[row].Edge_Weight\n",
        "  else:\n",
        "    dfe[df.iloc[row].Source]+=df.iloc[row].Edge_Weight"
      ]
    },
    {
      "cell_type": "code",
      "execution_count": null,
      "metadata": {
        "colab": {
          "base_uri": "https://localhost:8080/"
        },
        "id": "2ac4HuyqgyPz",
        "outputId": "e7549a59-977b-4233-d581-5209033ba13b"
      },
      "outputs": [],
      "source": [
        "rte =sorted(dfe.items(), key=lambda x: x[1], reverse=True)\n",
        "print(rte)"
      ]
    },
    {
      "cell_type": "code",
      "execution_count": null,
      "metadata": {
        "colab": {
          "base_uri": "https://localhost:8080/"
        },
        "id": "SIhjCWjxg297",
        "outputId": "c158f810-299d-4ede-f5d1-80d0f92de34a"
      },
      "outputs": [
        {
          "name": "stdout",
          "output_type": "stream",
          "text": [
            "{14000: 1, 9000: 2, 5000: 2, 4000: 3, 3000: 1, 2000: 6, 1000: 33, 0: 54479, -1000: 1336}\n"
          ]
        }
      ],
      "source": [
        "map=dict()\n",
        "for i in range(0,len(rte)):\n",
        "  if not math.floor(rte[i][1]/1000)*1000 in map:\n",
        "    map[math.floor(rte[i][1]/1000)*1000]=1\n",
        "  else:\n",
        "    map[math.floor(rte[i][1]/1000)*1000]+=1\n",
        "print(map)"
      ]
    },
    {
      "cell_type": "code",
      "execution_count": null,
      "metadata": {
        "colab": {
          "base_uri": "https://localhost:8080/",
          "height": 465
        },
        "id": "vz-VX8Lcg7Jj",
        "outputId": "a2e00fcf-50bd-4708-f8a4-8c1cdacc5fcd"
      },
      "outputs": [
        {
          "data": {
            "text/plain": [
              "[<matplotlib.lines.Line2D at 0x7f8e771736d0>,\n",
              " <matplotlib.lines.Line2D at 0x7f8e77173700>]"
            ]
          },
          "execution_count": 8,
          "metadata": {},
          "output_type": "execute_result"
        },
        {
          "data": {
            "image/png": "[encoded data removed]",
            "text/plain": [
              "<Figure size 640x480 with 1 Axes>"
            ]
          },
          "metadata": {},
          "output_type": "display_data"
        }
      ],
      "source": [
        "plt.plot(map.keys(), map.values(),10.0,color='b')"
      ]
    },
    {
      "cell_type": "markdown",
      "metadata": {
        "id": "P7dHEQdYbx3b"
      },
      "source": [
        "## Sheet-1"
      ]
    },
    {
      "cell_type": "code",
      "execution_count": null,
      "metadata": {
        "id": "sWU1CWB8h0qk"
      },
      "outputs": [],
      "source": [
        "sv1 = dict()\n",
        "unique_subreddit_s1 = set()\n",
        "for row in range(0,st1.shape[0]):\n",
        "  unique_subreddit_s1.add(st1.iloc[row].Source)\n",
        "  if not st1.iloc[row].Source in sv1:\n",
        "    sv1[st1.iloc[row].Source]=st1.iloc[row].Edge_Weight\n",
        "  else:\n",
        "    sv1[st1.iloc[row].Source]+=st1.iloc[row].Edge_Weight"
      ]
    },
    {
      "cell_type": "code",
      "execution_count": null,
      "metadata": {
        "id": "Jnyh9jgNpAPl"
      },
      "outputs": [],
      "source": [
        "SV=sorted(sv1.items(), key=lambda x: x[1], reverse=True)\n",
        "print(SV)"
      ]
    },
    {
      "cell_type": "code",
      "execution_count": null,
      "metadata": {
        "id": "XLlr8us6qw9e"
      },
      "outputs": [],
      "source": [
        "map=dict()\n",
        "for i in range(0,len(SV)):\n",
        "  if not math.floor(SV[i][1]/10)*10 in map:\n",
        "    map[math.floor(SV[i][1]/10)*10]=1\n",
        "  else:\n",
        "    map[math.floor(SV[i][1]/10)*10]+=1\n",
        "print(map)"
      ]
    },
    {
      "cell_type": "code",
      "execution_count": null,
      "metadata": {
        "id": "A9rP463yXkL2"
      },
      "outputs": [],
      "source": [
        "neg=dict()\n",
        "for i in range(0,len(SV)):\n",
        "  if SV[i][1]<0:\n",
        "    if not math.floor(SV[i][1]/10)*10 in neg:\n",
        "      neg[math.floor(SV[i][1]/10)*10]=1\n",
        "    else:\n",
        "      neg[math.floor(SV[i][1]/10)*10]+=1"
      ]
    },
    {
      "cell_type": "code",
      "execution_count": null,
      "metadata": {
        "id": "5sP8OKJWY4Bu"
      },
      "outputs": [],
      "source": [
        "print(neg)"
      ]
    },
    {
      "cell_type": "code",
      "execution_count": null,
      "metadata": {
        "id": "pHDffjKztQgK"
      },
      "outputs": [],
      "source": [
        "plt.bar(neg.keys(), neg.values(),10.0,color='g')"
      ]
    },
    {
      "cell_type": "markdown",
      "metadata": {
        "id": "OOf95H06b2QF"
      },
      "source": [
        "## Sheet-2"
      ]
    },
    {
      "cell_type": "code",
      "execution_count": null,
      "metadata": {
        "id": "16h_zzO4OP0C"
      },
      "outputs": [],
      "source": [
        "sv2 = dict()\n",
        "unique_subreddit_s2 = set()\n",
        "for row in range(0,st2.shape[0]):\n",
        "  unique_subreddit_s2.add(st2.iloc[row].Source)\n",
        "  if not st2.iloc[row].Source in sv2:\n",
        "    sv2[st2.iloc[row].Source]=st2.iloc[row].Edge_Weight\n",
        "  else:\n",
        "    sv2[st2.iloc[row].Source]+=st2.iloc[row].Edge_Weight"
      ]
    },
    {
      "cell_type": "code",
      "execution_count": null,
      "metadata": {
        "id": "MX3SKZTTOa-a"
      },
      "outputs": [],
      "source": [
        "SV=sorted(sv2.items(), key=lambda x: x[1], reverse=True)\n",
        "print(SV)"
      ]
    },
    {
      "cell_type": "code",
      "execution_count": null,
      "metadata": {
        "id": "S-0o4L-AOeUq"
      },
      "outputs": [],
      "source": [
        "map=dict()\n",
        "for i in range(0,len(SV)):\n",
        "  if not math.floor(SV[i][1]/10)*10 in map:\n",
        "    map[math.floor(SV[i][1]/10)*10]=1\n",
        "  else:\n",
        "    map[math.floor(SV[i][1]/10)*10]+=1\n",
        "print(map)"
      ]
    },
    {
      "cell_type": "code",
      "execution_count": null,
      "metadata": {
        "id": "aADq7HMpZ1xL"
      },
      "outputs": [],
      "source": [
        "neg2=dict()\n",
        "for i in range(0,len(SV)):\n",
        "  if SV[i][1]<0:\n",
        "    if not math.floor(SV[i][1]/10)*10 in neg2:\n",
        "      neg2[math.floor(SV[i][1]/10)*10]=1\n",
        "    else:\n",
        "      neg2[math.floor(SV[i][1]/10)*10]+=1"
      ]
    },
    {
      "cell_type": "code",
      "execution_count": null,
      "metadata": {
        "id": "AF3dBXwCatus"
      },
      "outputs": [],
      "source": [
        "print(neg2)"
      ]
    },
    {
      "cell_type": "code",
      "execution_count": null,
      "metadata": {
        "id": "xkaaNsaPOhwv"
      },
      "outputs": [],
      "source": [
        "plt.bar(neg2.keys(), neg2.values(),8.0,color='b')"
      ]
    },
    {
      "cell_type": "markdown",
      "metadata": {
        "id": "DCJX6HFUcGjG"
      },
      "source": [
        "## Sheet-3"
      ]
    },
    {
      "cell_type": "code",
      "execution_count": null,
      "metadata": {
        "id": "zT_zw-xnOkk5"
      },
      "outputs": [],
      "source": [
        "sv3 = dict()\n",
        "unique_subreddit_s3 = set()\n",
        "for row in range(0,st3.shape[0]):\n",
        "  unique_subreddit_s3.add(st3.iloc[row].Source)\n",
        "  if not st3.iloc[row].Source in sv3:\n",
        "    sv3[st3.iloc[row].Source]=st3.iloc[row].Edge_Weight\n",
        "  else:\n",
        "    sv3[st3.iloc[row].Source]+=st3.iloc[row].Edge_Weight"
      ]
    },
    {
      "cell_type": "code",
      "execution_count": null,
      "metadata": {
        "id": "OiONxUiqOrNv"
      },
      "outputs": [],
      "source": [
        "SV=sorted(sv3.items(), key=lambda x: x[1], reverse=True)\n",
        "print(SV)"
      ]
    },
    {
      "cell_type": "code",
      "execution_count": null,
      "metadata": {
        "id": "r_cFH-CtOtSg"
      },
      "outputs": [],
      "source": [
        "map=dict()\n",
        "for i in range(0,len(SV)):\n",
        "  if not math.floor(SV[i][1]/10)*10 in map:\n",
        "    map[math.floor(SV[i][1]/10)*10]=1\n",
        "  else:\n",
        "    map[math.floor(SV[i][1]/10)*10]+=1\n",
        "print(map)"
      ]
    },
    {
      "cell_type": "code",
      "execution_count": null,
      "metadata": {
        "id": "b_7KtJIyayGv"
      },
      "outputs": [],
      "source": [
        "neg3=dict()\n",
        "for i in range(0,len(SV)):\n",
        "  if SV[i][1]<0:\n",
        "    if not math.floor(SV[i][1]/10)*10 in neg3:\n",
        "      neg3[math.floor(SV[i][1]/10)*10]=1\n",
        "    else:\n",
        "      neg3[math.floor(SV[i][1]/10)*10]+=1"
      ]
    },
    {
      "cell_type": "code",
      "execution_count": null,
      "metadata": {
        "id": "8ePibbUjbAc6"
      },
      "outputs": [],
      "source": [
        "print(neg3)"
      ]
    },
    {
      "cell_type": "code",
      "execution_count": null,
      "metadata": {
        "id": "QI3os5vaOveY"
      },
      "outputs": [],
      "source": [
        "plt.bar(neg3.keys(), neg3.values(),10.0,color='r')"
      ]
    },
    {
      "cell_type": "code",
      "execution_count": null,
      "metadata": {
        "id": "DMXFGxsn9bRL"
      },
      "outputs": [],
      "source": [
        "print(len(unique_subreddit_s1))\n",
        "print(len(unique_subreddit_s2))\n",
        "print(len(unique_subreddit_s3))"
      ]
    },
    {
      "cell_type": "markdown",
      "metadata": {
        "id": "4fGndnu9cLiT"
      },
      "source": [
        "# Graph metrics"
      ]
    },
    {
      "cell_type": "code",
      "execution_count": null,
      "metadata": {
        "id": "mw61nboQcZ8D"
      },
      "outputs": [],
      "source": [
        "# G = nx.MultiDiGraph()\n",
        "# G = nx.from_pandas_edgelist(df, source=\"Source\", target=\"Target\", edge_attr=[\"Edge_Weight\",\"Timeset\"])"
      ]
    },
    {
      "cell_type": "code",
      "execution_count": null,
      "metadata": {
        "id": "1r5l20y-qptj"
      },
      "outputs": [],
      "source": [
        "# nx.draw(G, with_labels=True)\n",
        "# plt.show()"
      ]
    },
    {
      "cell_type": "code",
      "execution_count": null,
      "metadata": {
        "id": "Ts77A0oPp5yK"
      },
      "outputs": [],
      "source": [
        "degree_distribution = dict(G.degree())\n",
        "avg_clustering_coefficient = nx.average_clustering(G,weight=\"Edge_Weight\")\n",
        "transitivity = nx.transitivity(G)\n",
        "assortativity = nx.degree_assortativity_coefficient(G,weight=\"Edge_Weight\")"
      ]
    },
    {
      "cell_type": "code",
      "execution_count": null,
      "metadata": {
        "id": "5hoOqJL5p-DT"
      },
      "outputs": [],
      "source": [
        "print(\"Degree distribution:\", degree_distribution)\n",
        "print(\"Weighted Average clustering coefficient:\", avg_clustering_coefficient)\n",
        "print(\"Transitivity:\", transitivity)\n",
        "print(\"Weighted Assortativity:\", assortativity)"
      ]
    },
    {
      "cell_type": "code",
      "execution_count": null,
      "metadata": {
        "id": "PUQL56hEGD4K"
      },
      "outputs": [],
      "source": [
        "Degree = sorted(degree_distribution.items(), key=lambda x: x[1], reverse=True)\n",
        "print(Degree)"
      ]
    },
    {
      "cell_type": "code",
      "execution_count": null,
      "metadata": {
        "id": "TBijDypGzxx7"
      },
      "outputs": [],
      "source": [
        "pr = nx.pagerank(G,alpha=0.85,tol=1e-06)\n",
        "print(pr)"
      ]
    },
    {
      "cell_type": "code",
      "execution_count": null,
      "metadata": {
        "id": "5EiLWqpO3tlS"
      },
      "outputs": [],
      "source": [
        "sorted_pr = sorted(pr.items(), key=lambda x: x[1], reverse=True)\n",
        "print(sorted_pr)"
      ]
    },
    {
      "cell_type": "code",
      "execution_count": null,
      "metadata": {
        "id": "MSywPMnq4kFJ"
      },
      "outputs": [],
      "source": [
        "top = sorted_pr[:5]\n",
        "name = [t[0] for t in top]\n",
        "score = [t[1] for t in top]\n",
        "plt.bar(name, score)\n",
        "plt.xlabel('SubReddit ID')\n",
        "plt.ylabel('PageRank Score')\n",
        "plt.title('Top 5 Nodes by PageRank Score')\n",
        "plt.show()"
      ]
    },
    {
      "cell_type": "code",
      "execution_count": null,
      "metadata": {
        "id": "i_VSojArpzPk"
      },
      "outputs": [],
      "source": [
        "# Gn= nx.DiGraph()\n",
        "# Gn = nx.from_pandas_edgelist(res_df, source=\"Source\", target=\"Target\", edge_attr=[\"Sign\"])\n",
        "# res_df.to_excel('filename.xlsx', sheet_name = 'New_sheet')\n",
        "# files.download('filename.xlsx')"
      ]
    },
    {
      "cell_type": "markdown",
      "metadata": {
        "id": "o9MN44lLcOiw"
      },
      "source": [
        "# Extra"
      ]
    },
    {
      "cell_type": "code",
      "execution_count": null,
      "metadata": {
        "id": "kDaM7l3JbGC-"
      },
      "outputs": [],
      "source": [
        "# signed_betweenness = nx.betweenness_centrality(G, weight=\"Edge_Weight\")\n",
        "# print(signed_betweenness)"
      ]
    },
    {
      "cell_type": "code",
      "execution_count": null,
      "metadata": {
        "id": "R0at5fT4bCYt"
      },
      "outputs": [],
      "source": [
        "# signed_modularity = nx.algorithms.community.modularity(G, weight=\"Edge_Weight\")\n",
        "# print(signed_modularity) (!!need to build communities then use this!!)"
      ]
    },
    {
      "cell_type": "code",
      "execution_count": null,
      "metadata": {
        "id": "JGi8pFqNrXGB"
      },
      "outputs": [],
      "source": [
        "# hubs, authorities = nx.hits(G,max_iter=100,tol=1e-04,normalized = False)\n",
        "# print(\"Hub Scores: \", hubs)\n",
        "# print(\"Authority Scores: \", authorities)"
      ]
    },
    {
      "cell_type": "code",
      "execution_count": null,
      "metadata": {
        "id": "8QRcXCwpv3B3"
      },
      "outputs": [],
      "source": [
        "# Hubs = sorted(hubs.items(), key=lambda x: x[1], reverse=True)\n",
        "# print(Hubs)"
      ]
    },
    {
      "cell_type": "code",
      "execution_count": null,
      "metadata": {
        "id": "aiURtk5Kx5q-"
      },
      "outputs": [],
      "source": [
        "# Authorities = sorted(authorities.items(), key=lambda x: x[1], reverse=True)\n",
        "# print(Authorities)"
      ]
    }
  ],
  "metadata": {
    "accelerator": "GPU",
    "colab": {
      "collapsed_sections": [
        "qcb_qduwhBVi",
        "P7dHEQdYbx3b",
        "OOf95H06b2QF",
        "DCJX6HFUcGjG",
        "4fGndnu9cLiT",
        "o9MN44lLcOiw"
      ],
      "provenance": [],
      "toc_visible": true
    },
    "gpuClass": "standard",
    "kernelspec": {
      "display_name": "Python 3",
      "name": "python3"
    },
    "language_info": {
      "name": "python"
    }
  },
  "nbformat": 4,
  "nbformat_minor": 0
}
